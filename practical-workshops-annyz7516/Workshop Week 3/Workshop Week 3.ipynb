{
 "cells": [
  {
   "cell_type": "markdown",
   "metadata": {},
   "source": [
    "The goal of this week's workshop is to become familiar with the Pandas `DataFrame` data structure and begin looking at some simple data analysis and visualisation.   We'll look at two sample data sets and perform some analysis on them."
   ]
  },
  {
   "cell_type": "code",
   "execution_count": 4,
   "metadata": {},
   "outputs": [],
   "source": [
    "student_name = \"Y Z\"\n",
    "student_id = \"annyz7516\""
   ]
  },
  {
   "cell_type": "code",
   "execution_count": 5,
   "metadata": {},
   "outputs": [],
   "source": [
    "import pandas as pd\n",
    "import numpy as np\n",
    "import matplotlib.pyplot as plt\n",
    "%matplotlib inline"
   ]
  },
  {
   "cell_type": "markdown",
   "metadata": {},
   "source": [
    "## Auto MPG Data\n",
    "\n",
    "Our first exercise is with some data on cars from the US containing information about car size and power and fuel consumption (miles per gallon or mpg).   We'll use this to explore the Pandas `DataFrame` options for selecting and plotting data and for computing statistics over columns. \n",
    "\n",
    "First we read the data using `pd.read_table` since the data ([auto-mpg.data](files/auto-mpg.data)) is in a \n",
    "space separated tabular format (take a look at the raw data to see what this means).   I've added an \n",
    "explicit list of column headings and some options to `read_table` to get the data in the right format."
   ]
  },
  {
   "cell_type": "code",
   "execution_count": 6,
   "metadata": {},
   "outputs": [
    {
     "data": {
      "text/html": [
       "<div>\n",
       "<style scoped>\n",
       "    .dataframe tbody tr th:only-of-type {\n",
       "        vertical-align: middle;\n",
       "    }\n",
       "\n",
       "    .dataframe tbody tr th {\n",
       "        vertical-align: top;\n",
       "    }\n",
       "\n",
       "    .dataframe thead th {\n",
       "        text-align: right;\n",
       "    }\n",
       "</style>\n",
       "<table border=\"1\" class=\"dataframe\">\n",
       "  <thead>\n",
       "    <tr style=\"text-align: right;\">\n",
       "      <th></th>\n",
       "      <th>mpg</th>\n",
       "      <th>cylinders</th>\n",
       "      <th>displacement</th>\n",
       "      <th>horsepower</th>\n",
       "      <th>weight</th>\n",
       "      <th>acceleration</th>\n",
       "      <th>modelyear</th>\n",
       "      <th>origin</th>\n",
       "      <th>name</th>\n",
       "    </tr>\n",
       "  </thead>\n",
       "  <tbody>\n",
       "    <tr>\n",
       "      <th>0</th>\n",
       "      <td>18.0</td>\n",
       "      <td>8</td>\n",
       "      <td>307.0</td>\n",
       "      <td>130.0</td>\n",
       "      <td>3504.0</td>\n",
       "      <td>12.0</td>\n",
       "      <td>70</td>\n",
       "      <td>1</td>\n",
       "      <td>chevrolet chevelle malibu</td>\n",
       "    </tr>\n",
       "    <tr>\n",
       "      <th>1</th>\n",
       "      <td>15.0</td>\n",
       "      <td>8</td>\n",
       "      <td>350.0</td>\n",
       "      <td>165.0</td>\n",
       "      <td>3693.0</td>\n",
       "      <td>11.5</td>\n",
       "      <td>70</td>\n",
       "      <td>1</td>\n",
       "      <td>buick skylark 320</td>\n",
       "    </tr>\n",
       "    <tr>\n",
       "      <th>2</th>\n",
       "      <td>18.0</td>\n",
       "      <td>8</td>\n",
       "      <td>318.0</td>\n",
       "      <td>150.0</td>\n",
       "      <td>3436.0</td>\n",
       "      <td>11.0</td>\n",
       "      <td>70</td>\n",
       "      <td>1</td>\n",
       "      <td>plymouth satellite</td>\n",
       "    </tr>\n",
       "    <tr>\n",
       "      <th>3</th>\n",
       "      <td>16.0</td>\n",
       "      <td>8</td>\n",
       "      <td>304.0</td>\n",
       "      <td>150.0</td>\n",
       "      <td>3433.0</td>\n",
       "      <td>12.0</td>\n",
       "      <td>70</td>\n",
       "      <td>1</td>\n",
       "      <td>amc rebel sst</td>\n",
       "    </tr>\n",
       "    <tr>\n",
       "      <th>4</th>\n",
       "      <td>17.0</td>\n",
       "      <td>8</td>\n",
       "      <td>302.0</td>\n",
       "      <td>140.0</td>\n",
       "      <td>3449.0</td>\n",
       "      <td>10.5</td>\n",
       "      <td>70</td>\n",
       "      <td>1</td>\n",
       "      <td>ford torino</td>\n",
       "    </tr>\n",
       "  </tbody>\n",
       "</table>\n",
       "</div>"
      ],
      "text/plain": [
       "    mpg  cylinders  displacement  horsepower  weight  acceleration  modelyear  \\\n",
       "0  18.0          8         307.0       130.0  3504.0          12.0         70   \n",
       "1  15.0          8         350.0       165.0  3693.0          11.5         70   \n",
       "2  18.0          8         318.0       150.0  3436.0          11.0         70   \n",
       "3  16.0          8         304.0       150.0  3433.0          12.0         70   \n",
       "4  17.0          8         302.0       140.0  3449.0          10.5         70   \n",
       "\n",
       "   origin                       name  \n",
       "0       1  chevrolet chevelle malibu  \n",
       "1       1          buick skylark 320  \n",
       "2       1         plymouth satellite  \n",
       "3       1              amc rebel sst  \n",
       "4       1                ford torino  "
      ]
     },
     "execution_count": 6,
     "metadata": {},
     "output_type": "execute_result"
    }
   ],
   "source": [
    "columns = ['mpg', 'cylinders', 'displacement', 'horsepower', 'weight', 'acceleration', 'modelyear', 'origin', 'name']\n",
    "auto = pd.read_table('files/auto-mpg.data', delim_whitespace=True, header=None, names=columns)\n",
    "auto.head()"
   ]
  },
  {
   "cell_type": "markdown",
   "metadata": {},
   "source": [
    "Now that you have the data in a DataFrame, write code in cells below to do the following:\n",
    "\n",
    "* show the size of the data - how many rows and columns are there?\n",
    "* select just the `mpg` column, find the mean value of MPG for all cars\n",
    "* select all rows where the value of cylinders is 6, how many are there?\n",
    "* what is the mean MPG for 6 cylinder cars?\n",
    "* create a scatter plot of `mpg` vs `weight`\n",
    "* create a similar plot but just for the 8 cylinder cars\n",
    "\n",
    "You might want to refer to the [Pandas Tutorials](http://pandas.pydata.org/pandas-docs/stable/tutorials.html) or \n",
    " [10 Minutes to Pandas](http://pandas.pydata.org/pandas-docs/stable/10min.html) for some hints."
   ]
  },
  {
   "cell_type": "code",
   "execution_count": 7,
   "metadata": {},
   "outputs": [
    {
     "data": {
      "text/plain": [
       "(392, 9)"
      ]
     },
     "execution_count": 7,
     "metadata": {},
     "output_type": "execute_result"
    }
   ],
   "source": [
    "auto.shape"
   ]
  },
  {
   "cell_type": "code",
   "execution_count": 8,
   "metadata": {},
   "outputs": [
    {
     "data": {
      "text/plain": [
       "23.44591836734694"
      ]
     },
     "execution_count": 8,
     "metadata": {},
     "output_type": "execute_result"
    }
   ],
   "source": [
    "auto['mpg'].mean()"
   ]
  },
  {
   "cell_type": "code",
   "execution_count": 9,
   "metadata": {},
   "outputs": [
    {
     "data": {
      "text/plain": [
       "19.973493975903615"
      ]
     },
     "execution_count": 9,
     "metadata": {},
     "output_type": "execute_result"
    }
   ],
   "source": [
    "auto_cyl_6 = auto[auto['cylinders'] == 6]\n",
    "auto_cyl_6['mpg'].mean()"
   ]
  },
  {
   "cell_type": "code",
   "execution_count": 10,
   "metadata": {},
   "outputs": [
    {
     "data": {
      "text/plain": [
       "<AxesSubplot:xlabel='weight', ylabel='mpg'>"
      ]
     },
     "execution_count": 10,
     "metadata": {},
     "output_type": "execute_result"
    },
    {
     "data": {
      "image/png": "[encoded data removed]",
      "text/plain": [
       "<Figure size 432x288 with 1 Axes>"
      ]
     },
     "metadata": {
      "needs_background": "light"
     },
     "output_type": "display_data"
    }
   ],
   "source": [
    "# correlation\n",
    "# auto.corr()\n",
    "auto.plot.scatter(x='weight', y='mpg')\n"
   ]
  },
  {
   "cell_type": "code",
   "execution_count": 11,
   "metadata": {},
   "outputs": [
    {
     "data": {
      "text/plain": [
       "<AxesSubplot:xlabel='weight', ylabel='mpg'>"
      ]
     },
     "execution_count": 11,
     "metadata": {},
     "output_type": "execute_result"
    },
    {
     "data": {
      "image/png": "[encoded data removed]",
      "text/plain": [
       "<Figure size 432x288 with 1 Axes>"
      ]
     },
     "metadata": {
      "needs_background": "light"
     },
     "output_type": "display_data"
    }
   ],
   "source": [
    "auto_cyl_8 = auto[auto['cylinders'] == 8]\n",
    "auto_cyl_8.plot.scatter(x='weight', y='mpg')"
   ]
  },
  {
   "cell_type": "markdown",
   "metadata": {},
   "source": [
    "## Adult Data Analysis\n",
    "\n",
    "Next we'll work with a dataset described in Chapter 3 of the text - the [Adult](https://archive.ics.uci.edu/ml/datasets/Adult) dataset:\n",
    "\n",
    "> \"hosted on the UCI’s Machine Learning Repository.1 It contains approximately 32,000 observations concerning different financial parameters related to the US population: age, sex, marital (marital status of the individual), country, income (Boolean variable: whether the person makes more than $50,000 per annum), education (the highest level of education achieved by the individual), occupation, capital gain, etc.\n",
    "\n",
    "The data is stored in a file 'files/adult.data' in this repository. It is in CSV format but the text uses a\n",
    "different method to read it in to a dataframe - the reason is that it is a slightly non-standard format with spaces after the commas.  I've shown an alternate way to read the data below that uses read_csv with appropriate arguments to read the data.  This ensures that it doesn't try to read a header line (since there isn't one) and skips initial spaces in values.  We explicitly set the column names from a list of strings."
   ]
  },
  {
   "cell_type": "code",
   "execution_count": 12,
   "metadata": {},
   "outputs": [
    {
     "data": {
      "text/html": [
       "<div>\n",
       "<style scoped>\n",
       "    .dataframe tbody tr th:only-of-type {\n",
       "        vertical-align: middle;\n",
       "    }\n",
       "\n",
       "    .dataframe tbody tr th {\n",
       "        vertical-align: top;\n",
       "    }\n",
       "\n",
       "    .dataframe thead th {\n",
       "        text-align: right;\n",
       "    }\n",
       "</style>\n",
       "<table border=\"1\" class=\"dataframe\">\n",
       "  <thead>\n",
       "    <tr style=\"text-align: right;\">\n",
       "      <th></th>\n",
       "      <th>age</th>\n",
       "      <th>type_employer</th>\n",
       "      <th>fnlwgt</th>\n",
       "      <th>education</th>\n",
       "      <th>education_num</th>\n",
       "      <th>marital</th>\n",
       "      <th>occupation</th>\n",
       "      <th>relationship</th>\n",
       "      <th>race</th>\n",
       "      <th>sex</th>\n",
       "      <th>capital_gain</th>\n",
       "      <th>capital_loss</th>\n",
       "      <th>hr_per_week</th>\n",
       "      <th>country</th>\n",
       "      <th>income</th>\n",
       "    </tr>\n",
       "  </thead>\n",
       "  <tbody>\n",
       "    <tr>\n",
       "      <th>0</th>\n",
       "      <td>39</td>\n",
       "      <td>State-gov</td>\n",
       "      <td>77516</td>\n",
       "      <td>Bachelors</td>\n",
       "      <td>13</td>\n",
       "      <td>Never-married</td>\n",
       "      <td>Adm-clerical</td>\n",
       "      <td>Not-in-family</td>\n",
       "      <td>White</td>\n",
       "      <td>Male</td>\n",
       "      <td>2174</td>\n",
       "      <td>0</td>\n",
       "      <td>40</td>\n",
       "      <td>United-States</td>\n",
       "      <td>&lt;=50K</td>\n",
       "    </tr>\n",
       "    <tr>\n",
       "      <th>1</th>\n",
       "      <td>50</td>\n",
       "      <td>Self-emp-not-inc</td>\n",
       "      <td>83311</td>\n",
       "      <td>Bachelors</td>\n",
       "      <td>13</td>\n",
       "      <td>Married-civ-spouse</td>\n",
       "      <td>Exec-managerial</td>\n",
       "      <td>Husband</td>\n",
       "      <td>White</td>\n",
       "      <td>Male</td>\n",
       "      <td>0</td>\n",
       "      <td>0</td>\n",
       "      <td>13</td>\n",
       "      <td>United-States</td>\n",
       "      <td>&lt;=50K</td>\n",
       "    </tr>\n",
       "    <tr>\n",
       "      <th>2</th>\n",
       "      <td>38</td>\n",
       "      <td>Private</td>\n",
       "      <td>215646</td>\n",
       "      <td>HS-grad</td>\n",
       "      <td>9</td>\n",
       "      <td>Divorced</td>\n",
       "      <td>Handlers-cleaners</td>\n",
       "      <td>Not-in-family</td>\n",
       "      <td>White</td>\n",
       "      <td>Male</td>\n",
       "      <td>0</td>\n",
       "      <td>0</td>\n",
       "      <td>40</td>\n",
       "      <td>United-States</td>\n",
       "      <td>&lt;=50K</td>\n",
       "    </tr>\n",
       "    <tr>\n",
       "      <th>3</th>\n",
       "      <td>53</td>\n",
       "      <td>Private</td>\n",
       "      <td>234721</td>\n",
       "      <td>11th</td>\n",
       "      <td>7</td>\n",
       "      <td>Married-civ-spouse</td>\n",
       "      <td>Handlers-cleaners</td>\n",
       "      <td>Husband</td>\n",
       "      <td>Black</td>\n",
       "      <td>Male</td>\n",
       "      <td>0</td>\n",
       "      <td>0</td>\n",
       "      <td>40</td>\n",
       "      <td>United-States</td>\n",
       "      <td>&lt;=50K</td>\n",
       "    </tr>\n",
       "    <tr>\n",
       "      <th>4</th>\n",
       "      <td>28</td>\n",
       "      <td>Private</td>\n",
       "      <td>338409</td>\n",
       "      <td>Bachelors</td>\n",
       "      <td>13</td>\n",
       "      <td>Married-civ-spouse</td>\n",
       "      <td>Prof-specialty</td>\n",
       "      <td>Wife</td>\n",
       "      <td>Black</td>\n",
       "      <td>Female</td>\n",
       "      <td>0</td>\n",
       "      <td>0</td>\n",
       "      <td>40</td>\n",
       "      <td>Cuba</td>\n",
       "      <td>&lt;=50K</td>\n",
       "    </tr>\n",
       "  </tbody>\n",
       "</table>\n",
       "</div>"
      ],
      "text/plain": [
       "   age     type_employer  fnlwgt  education  education_num  \\\n",
       "0   39         State-gov   77516  Bachelors             13   \n",
       "1   50  Self-emp-not-inc   83311  Bachelors             13   \n",
       "2   38           Private  215646    HS-grad              9   \n",
       "3   53           Private  234721       11th              7   \n",
       "4   28           Private  338409  Bachelors             13   \n",
       "\n",
       "              marital         occupation   relationship   race     sex  \\\n",
       "0       Never-married       Adm-clerical  Not-in-family  White    Male   \n",
       "1  Married-civ-spouse    Exec-managerial        Husband  White    Male   \n",
       "2            Divorced  Handlers-cleaners  Not-in-family  White    Male   \n",
       "3  Married-civ-spouse  Handlers-cleaners        Husband  Black    Male   \n",
       "4  Married-civ-spouse     Prof-specialty           Wife  Black  Female   \n",
       "\n",
       "   capital_gain  capital_loss  hr_per_week        country income  \n",
       "0          2174             0           40  United-States  <=50K  \n",
       "1             0             0           13  United-States  <=50K  \n",
       "2             0             0           40  United-States  <=50K  \n",
       "3             0             0           40  United-States  <=50K  \n",
       "4             0             0           40           Cuba  <=50K  "
      ]
     },
     "execution_count": 12,
     "metadata": {},
     "output_type": "execute_result"
    }
   ],
   "source": [
    "column_names = ['age', 'type_employer', 'fnlwgt', 'education', 'education_num', \n",
    "                'marital', 'occupation',' relationship', 'race', 'sex', 'capital_gain', \n",
    "                'capital_loss', 'hr_per_week', 'country', 'income']\n",
    "\n",
    "adult = pd.read_csv('files/adult.data', header=None, names=column_names, skipinitialspace=True)\n",
    "adult.head()"
   ]
  },
  {
   "cell_type": "markdown",
   "metadata": {},
   "source": [
    "Follow the textbook examples to complete the tasks below.  Note that cutting and pasting from the text\n",
    "is a bit problematic since they use special quote character in the code - if you try to copy-paste the code you'll get syntax errors. Instead, type out the commands, it might help you remember them better too.\n",
    "\n",
    "The first task is to create separate dataframes for males and females, and for males and females earning over 50K (four dataframes in all).  When you have done this, **display the mean, median and standard deviation of age for each group** (Section 3.3.1).\n",
    "\n",
    "One criticism I have of the code in the text is that they use very short variable names like df and ml2.  I've called the main dataframe `adult`; I suggest you use slightly longer varible names (`males`, `males_high`) to make your code easier to read - although avoid really long names (`males_with_high_income`) as they can make your code hard to read."
   ]
  },
  {
   "cell_type": "code",
   "execution_count": 13,
   "metadata": {},
   "outputs": [
    {
     "name": "stdout",
     "output_type": "stream",
     "text": [
      "(21790, 15) (0, 15) (10771, 15) (0, 15)\n"
     ]
    }
   ],
   "source": [
    "male = adult[adult['sex']=='Male']\n",
    "female = adult[adult['sex']=='Female']\n",
    "male_high = adult[(adult['sex']=='Male') & (adult['income']=='>50k')]\n",
    "female_high = adult[(adult['sex']=='Female') & (adult['income']=='>50k')]\n",
    "print(male.shape, male_high.shape, female.shape, female_high.shape)"
   ]
  },
  {
   "cell_type": "code",
   "execution_count": 14,
   "metadata": {},
   "outputs": [
    {
     "name": "stdout",
     "output_type": "stream",
     "text": [
      "male average age:, 39.43354749885268\n",
      "male median age: 38.0\n",
      "male age std: 13.37063019252649\n",
      "\n",
      "male_high average age: nan\n",
      "male_high median age: nan\n",
      "male_high average age: nan\n",
      "\n",
      "female average age: 36.85823043357163\n",
      "female median age: 35.0\n",
      "female age std: 14.01369709943824\n",
      "\n",
      "female_high average age: nan\n",
      "female_high median age: nan\n",
      "female_high average age: nan\n"
     ]
    }
   ],
   "source": [
    "male_age_mean = male.age.mean()\n",
    "male_age_med = male.age.median()\n",
    "male_age_std = male.age.std()\n",
    "\n",
    "male_high_age_mean = male_high.age.mean()\n",
    "male_high_age_med = male_high.age.median()\n",
    "male_high_age_std = male_high.age.std()\n",
    "\n",
    "female_age_mean = female.age.mean()\n",
    "female_age_med = female.age.median()\n",
    "female_age_std = female.age.std()\n",
    "\n",
    "female_high_age_mean = female_high.age.mean()\n",
    "female_high_age_med = female_high.age.median()\n",
    "female_high_age_std = female_high.age.std()\n",
    "\n",
    "print(f'male average age:, {male_age_mean}') \n",
    "print(f'male median age: {male_age_med}')\n",
    "print(f'male age std: {male_age_std}')\n",
    "print(\"\")\n",
    "print(f'male_high average age: {male_high_age_mean}')\n",
    "print(f'male_high median age: {male_high_age_med}')\n",
    "print(f'male_high average age: {male_high_age_std}')\n",
    "print(\"\")\n",
    "print(f'female average age: {female_age_mean}')\n",
    "print(f'female median age: {female_age_med}')\n",
    "print(f'female age std: {female_age_std}')\n",
    "print(\"\")\n",
    "print(f'female_high average age: {female_high_age_mean}')\n",
    "print(f'female_high median age: {female_high_age_med}')\n",
    "print(f'female_high average age: {female_high_age_std}')\n"
   ]
  },
  {
   "cell_type": "markdown",
   "metadata": {},
   "source": [
    "Plot the distributions of the ages of males and females in the dataset on a single graph (Section 3.3.2 figure 3.2).  Note that you can do without using the seaborn module as in the example, just use `color='indianred'` instead.  Work out ([from the pandas documentation](http://pandas.pydata.org/pandas-docs/)) how to add labels to the axes in your plot - the code in the chapter doesn't show this.\n",
    "\n",
    "Compare your plot with the plot in the textbook.  Does it look the same? If it does, then you made the same error as they did. Compare the y-axis in Figures 3.1 and 3.2 (left) for Males; are there more males or females between ages 30 and 40? \n",
    "\n",
    "**This week's first checkpoint is to identify the bug in the textbook code.  Tell your tutor where you've found the bug.**"
   ]
  },
  {
   "cell_type": "code",
   "execution_count": 15,
   "metadata": {},
   "outputs": [
    {
     "data": {
      "image/png": "[encoded data removed]",
      "text/plain": [
       "<Figure size 432x288 with 1 Axes>"
      ]
     },
     "metadata": {
      "needs_background": "light"
     },
     "output_type": "display_data"
    }
   ],
   "source": [
    "male_age = male['age']\n",
    "pl = male_age.hist(density=False, bins=20)"
   ]
  },
  {
   "cell_type": "code",
   "execution_count": 16,
   "metadata": {},
   "outputs": [
    {
     "data": {
      "image/png": "[encoded data removed]",
      "text/plain": [
       "<Figure size 432x288 with 1 Axes>"
      ]
     },
     "metadata": {
      "needs_background": "light"
     },
     "output_type": "display_data"
    }
   ],
   "source": [
    "female_age = female['age']\n",
    "p1 = female_age.hist(density=False, bins=10, color='indianred')"
   ]
  },
  {
   "cell_type": "code",
   "execution_count": 17,
   "metadata": {},
   "outputs": [
    {
     "data": {
      "text/plain": [
       "Text(0, 0.5, 'Samples')"
      ]
     },
     "execution_count": 17,
     "metadata": {},
     "output_type": "execute_result"
    },
    {
     "data": {
      "image/png": "[encoded data removed]",
      "text/plain": [
       "<Figure size 432x288 with 1 Axes>"
      ]
     },
     "metadata": {
      "needs_background": "light"
     },
     "output_type": "display_data"
    }
   ],
   "source": [
    "male_age = male['age']\n",
    "pl = male_age.hist(density=False, bins=20, alpha=0.5)\n",
    "female_age = female['age']\n",
    "pl = female_age.hist(density=False, bins=20, color='indianred', alpha=0.5)\n",
    "\n",
    "pl.set_xlabel('Age')\n",
    "pl.set_ylabel('Samples')"
   ]
  },
  {
   "cell_type": "code",
   "execution_count": 18,
   "metadata": {},
   "outputs": [
    {
     "data": {
      "text/plain": [
       "Text(0, 0.5, 'PMF')"
      ]
     },
     "execution_count": 18,
     "metadata": {},
     "output_type": "execute_result"
    },
    {
     "data": {
      "image/png": "[encoded data removed]",
      "text/plain": [
       "<Figure size 432x288 with 1 Axes>"
      ]
     },
     "metadata": {
      "needs_background": "light"
     },
     "output_type": "display_data"
    }
   ],
   "source": [
    "male_age = male['age']\n",
    "pl = male_age.hist(density=True, bins=20, alpha=0.5)\n",
    "female_age = female['age']\n",
    "p1 = female_age.hist(density=True, bins=20, color='indianred', alpha=0.5)\n",
    "\n",
    "pl.set_xlabel('Age')\n",
    "pl.set_ylabel('PMF')"
   ]
  },
  {
   "cell_type": "markdown",
   "metadata": {},
   "source": [
    "## Outliers\n",
    "\n",
    "The text book Section 3.3.3 talks about removing outliers from the data, discarding values that lie a long way from the median or mean value.   For this dataset, they talk about removing any rows where the income is >50K but the age is below 22 or above 72 - basically saying that these values are unlikely to be real.   This is a reasonable thing to do but the code they give for it is buggy.  \n",
    "\n",
    "They show this formula:\n",
    "\n",
    "```\n",
    "df2 = df.drop(df.index[\n",
    "                      (df.income == ’>50K\\n’) &\n",
    "                      (df[’age’] > df[’age’].median() + 35) & (df[’age’] > df[’age’].median() -15)\n",
    "])\n",
    "```\n",
    "\n",
    "Note that they are dropping from the dataframe `df` any rows where the income is high AND the age is greater than 72 (median + 35) AND the age is greater than 22 (median - 15).   So effectively the last term will have no effect.  \n",
    "What they really mean is (age > 72) OR (age < 22).  Here are some expressions that express these constraints. I've printed the length of the dataframe after using the boolean expression to select the rows:"
   ]
  },
  {
   "cell_type": "code",
   "execution_count": 19,
   "metadata": {},
   "outputs": [
    {
     "name": "stdout",
     "output_type": "stream",
     "text": [
      "7841\n",
      "401\n",
      "3130\n",
      "74\n"
     ]
    }
   ],
   "source": [
    "print( len( adult[(adult.income == '>50K')] ))\n",
    "print( len( adult[(adult.age > 72)] ))\n",
    "print( len( adult[(adult.age < 22)] ))\n",
    "print( len( adult[(adult.income == '>50K')  & ((adult.age > 72) | (adult.age < 22))] ))"
   ]
  },
  {
   "cell_type": "markdown",
   "metadata": {},
   "source": [
    "Based on these expressions, we can drop rows outside of the target range using the `drop` method as in the textbook.  Note the use of `adult.index`.  The argument to drop is a series giving the indexes of the rows we want to remove from the dataframe.   So we filter the index of the dataframe using the boolean expression to get this."
   ]
  },
  {
   "cell_type": "code",
   "execution_count": 20,
   "metadata": {},
   "outputs": [
    {
     "data": {
      "text/plain": [
       "count    7767.000000\n",
       "mean       43.965495\n",
       "std        10.044728\n",
       "min        22.000000\n",
       "25%        36.000000\n",
       "50%        43.000000\n",
       "75%        51.000000\n",
       "max        72.000000\n",
       "Name: age, dtype: float64"
      ]
     },
     "execution_count": 20,
     "metadata": {},
     "output_type": "execute_result"
    }
   ],
   "source": [
    "# remove outliers - people with high income who are too old or too young\n",
    "adult_clean = adult.drop( adult.index[(adult.income == '>50K') & \n",
    "                                      ((adult['age'] > 72) | \n",
    "                                       (adult['age'] < 22))]\n",
    "                        )\n",
    "\n",
    "# confirm that we have restricted the range of ages for high earners, should see \n",
    "adult_clean[adult_clean.income=='>50K'].age.describe()"
   ]
  },
  {
   "cell_type": "markdown",
   "metadata": {},
   "source": [
    "Note that unlike in the textbook, the minimum age is now 22 (not 19).\n",
    "\n",
    "Given this filtered dataset, repeat the analysis in the remainder of section 3.3.3 to **determine whether the difference between males and females is changed once outliers are removed**. To do this you will need to compute versions of the male and female high earners age series with and without outliers removed.  You can do this directly from the `adult` and `adult_clean` dataframes."
   ]
  },
  {
   "cell_type": "code",
   "execution_count": 21,
   "metadata": {},
   "outputs": [
    {
     "name": "stdout",
     "output_type": "stream",
     "text": [
      "10.485469314658651\n",
      "10.460103747601886\n",
      "10.012302742491952\n",
      "9.989525648849213\n",
      "male_high average age: 44.62578805163614\n",
      "female_high average age: 42.125530110262936\n",
      "male_high_clean average age: 44.325352326110014\n",
      "female_high_clean average age: 41.93236301369863\n",
      "2.5002579413732064\n",
      "2.3929893124113875\n"
     ]
    },
    {
     "name": "stderr",
     "output_type": "stream",
     "text": [
      "C:\\Users\\PXPXZ_~1\\AppData\\Local\\Temp/ipykernel_20360/4221573497.py:11: UserWarning: Boolean Series key will be reindexed to match DataFrame index.\n",
      "  male_high_clean = adult_clean[(adult_clean['sex']=='Male') & (adult.income == '>50K')]\n",
      "C:\\Users\\PXPXZ_~1\\AppData\\Local\\Temp/ipykernel_20360/4221573497.py:16: UserWarning: Boolean Series key will be reindexed to match DataFrame index.\n",
      "  female_high_clean = adult_clean[(adult_clean['sex']=='Female') & (adult.income == '>50K')]\n"
     ]
    }
   ],
   "source": [
    "male_high = adult[(adult['sex']=='Male') & (adult.income == '>50K')]\n",
    "male_high_age_mean = male_high.age.mean()\n",
    "male_high_age_std = male_high.age.std()\n",
    "print(male_high_age_std)\n",
    "\n",
    "female_high = adult[(adult['sex']=='Female') & (adult.income == '>50K')]\n",
    "female_high_age_mean = female_high.age.mean()\n",
    "female_high_age_std = female_high.age.std()\n",
    "print(female_high_age_std)\n",
    "\n",
    "male_high_clean = adult_clean[(adult_clean['sex']=='Male') & (adult.income == '>50K')]\n",
    "male_high_clean_mean = male_high_clean.age.mean()\n",
    "male_high_clean_std = male_high_clean.age.std()\n",
    "print(male_high_clean_std)\n",
    "\n",
    "female_high_clean = adult_clean[(adult_clean['sex']=='Female') & (adult.income == '>50K')]\n",
    "female_high_clean_mean = female_high_clean.age.mean()\n",
    "female_high_clean_std = female_high_clean.age.std()\n",
    "print(female_high_clean_std)\n",
    "\n",
    "print(f'male_high average age: {male_high_age_mean}')\n",
    "print(f'female_high average age: {female_high_age_mean}')\n",
    "print(f'male_high_clean average age: {male_high_clean_mean}')\n",
    "print(f'female_high_clean average age: {female_high_clean_mean}')\n",
    "\n",
    "diff_mean = (male_high_age_mean - female_high_age_mean)\n",
    "diff_mean_clean = (male_high_clean_mean - female_high_clean_mean)\n",
    "print(diff_mean)\n",
    "print(diff_mean_clean)"
   ]
  },
  {
   "cell_type": "markdown",
   "metadata": {},
   "source": [
    "Generate figure 3.5 from the textbook that shows the relative frequency of male an female high earners as a function of age.  Again, label your axes and the plot overall."
   ]
  },
  {
   "cell_type": "code",
   "execution_count": 53,
   "metadata": {},
   "outputs": [
    {
     "data": {
      "text/plain": [
       "[<matplotlib.lines.Line2D at 0x1f75a9081f0>]"
      ]
     },
     "execution_count": 53,
     "metadata": {},
     "output_type": "execute_result"
    },
    {
     "data": {
      "image/png": "[encoded data removed]",
      "text/plain": [
       "<Figure size 720x432 with 1 Axes>"
      ]
     },
     "metadata": {
      "needs_background": "light"
     },
     "output_type": "display_data"
    }
   ],
   "source": [
    "# use np.histogram to count the number of ages in differen divisions\n",
    "countm, divisionm = np.histogram(male_high_clean.age, density=True)\n",
    "countf, divisionf = np.histogram(female_high_clean.age, density=True)\n",
    "\n",
    "# calculate the mid point of each division by subtracting half the difference between division from the end of each other\n",
    "midpoints = divisionm[1:] - np.diff(divisionm)/2\n",
    "    \n",
    "plt.figure(figsize=(10,6)) \n",
    "plt.axes(xlabel='Age', ylabel='Differences', title='Differences in promoting men vs. women')\n",
    "plt.plot(midpoints, countm - countf, 'x-')\n"
   ]
  },
  {
   "cell_type": "markdown",
   "metadata": {},
   "source": [
    "Finally, use the **Pearson’s median skewness coefficient** from Section 3.3.4 to confirm the difference in the shape of the distribution of male and female age distributions. "
   ]
  },
  {
   "cell_type": "code",
   "execution_count": 50,
   "metadata": {},
   "outputs": [
    {
     "name": "stdout",
     "output_type": "stream",
     "text": [
      "Skewness of the male population = 0.4898693428021732\n",
      "Skewness of the female population = 0.6704381665396546\n"
     ]
    }
   ],
   "source": [
    "def skewness(x):\n",
    "    res = 0\n",
    "    mean = x.mean()\n",
    "    std = x.std()\n",
    "    for i in x:\n",
    "        res += (i-mean)**3\n",
    "    res/= len(x)*std**3\n",
    "    return res\n",
    "\n",
    "print(f'Skewness of the male population = {skewness(male_age_clean)}')\n",
    "print(f'Skewness of the female population = {skewness(female_age_clean)}')\n",
    "\n",
    "    "
   ]
  },
  {
   "cell_type": "markdown",
   "metadata": {},
   "source": [
    "Summarise the results of your analysis. Do you reach the same conclusion as the textbook? What if any differences do you observe with the correct removal of outliers?"
   ]
  },
  {
   "cell_type": "markdown",
   "metadata": {},
   "source": [
    "# Discussions\n",
    "After exploring the data, we obtained some apparent effects that seem to support our initial assumptions.\n",
    "\n",
    "1. The mean age for men in our dataset is <font color='red'>39.4</font> years; while for women, is <font color='red'>36.8</font> years.\n",
    "2. When analyzing the high-income salaries, the mean age of men increased to <font color='red'>44.6</font> years;\n",
    "   while for womem, increased to <font color='red'>42.1</font> years.\n",
    "3. When the data were cleaned from outliers, we obtained mean age for high-income men: <font color='green'>44.3</font>,\n",
    "   and for women: <font color='green'>41.9</font>.\n",
    "4. Moreover, histograms and other statistics show the skewness of the data and the fact that women used to \n",
    "   be promoted a little bit earlier than men, in general"
   ]
  },
  {
   "cell_type": "code",
   "execution_count": null,
   "metadata": {},
   "outputs": [],
   "source": [
    "**This week's final checkpoint is to complete this notebook and also writing your analysis. Writing a brief commentary regarding numbers and plots is very important to highlight what you can conclude from your data exploration.**\n",
    "\n",
    "**If you need help in finishing this week's notebook, kindly take help from your tutor. Also, refer to Chapter 3 of your textbook**"
   ]
  },
  {
   "cell_type": "markdown",
   "metadata": {},
   "source": [
    "## Challenge\n",
    "\n",
    "If you complete this work in plenty of time, explore the dataset a little more to \n",
    "familiarise yourself with some other features of Pandas dataframes. Example questions might be:\n",
    "\n",
    "- does education level have an effect on income? Use [groupby](http://pandas.pydata.org/pandas-docs/stable/groupby.html) to look at the different values of the education variable and the number\n",
    "of records in each group.  Select one or two groups and compare the low and high income bands for these. \n",
    "- The `education_num` column is (I think) a numerical measure of the level of education of the person - higher for a higher level of qualification.  Look at the difference in this variable for groups defined by the `marital` variable: are married people more or less highly educated than those who are single?\n"
   ]
  },
  {
   "cell_type": "code",
   "execution_count": null,
   "metadata": {},
   "outputs": [],
   "source": []
  }
 ],
 "metadata": {
  "kernelspec": {
   "display_name": "Python 3 (ipykernel)",
   "language": "python",
   "name": "python3"
  },
  "language_info": {
   "codemirror_mode": {
    "name": "ipython",
    "version": 3
   },
   "file_extension": ".py",
   "mimetype": "text/x-python",
   "name": "python",
   "nbconvert_exporter": "python",
   "pygments_lexer": "ipython3",
   "version": "3.9.7"
  }
 },
 "nbformat": 4,
 "nbformat_minor": 2
}
