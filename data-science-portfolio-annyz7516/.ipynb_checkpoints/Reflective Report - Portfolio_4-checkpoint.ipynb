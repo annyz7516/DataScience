{
 "cells": [
  {
   "cell_type": "markdown",
   "id": "a12e2f67",
   "metadata": {},
   "source": [
    "## Replective Report - Portfolio_4"
   ]
  },
  {
   "cell_type": "markdown",
   "id": "ea842a05",
   "metadata": {},
   "source": [
    "### The process of solving problems and learning to use notebooks\n",
    "In Portfolio_4 I was trying to explore using data science models in the field of \n",
    "medical diagnostics.\n",
    "\n",
    "This dataset is originally from the National Institute of Diabetes and Digestive and Kidney Diseases.\n",
    "\n",
    "The data is provided as a CSV file, downloaded from https://www.kaggle.com/datasets/mathchi/diabetes-data-set/download\n",
    "\n",
    "The objective is to predict based on diagnostic measurements whether a patient has diabetes."
   ]
  },
  {
   "cell_type": "markdown",
   "id": "a96c48a2",
   "metadata": {},
   "source": [
    "#### Step 1. Explore Data\n",
    "At first glance, this dataset is clean without any missing data for each feature\n",
    "according to data information, and all data types are numerical.\n",
    "\n",
    "After visualization of the numerical data distribution, we observed '0' values for some features, e.g. Glucose, BloodPressure, Skin Thickness,\n",
    "Insulin and BMI in distribution plots.\n",
    "\n",
    "Based on common sense and some basic medical knowledge, '0' for those features is impossible, which can be proved by the their abnormal density in \n",
    "distribution plots. So those value '0' may refer to zero record instead of the actual measured value. They are outliers in this case."
   ]
  },
  {
   "cell_type": "markdown",
   "id": "e0425fd1",
   "metadata": {},
   "source": [
    "#### Step 2. Clean Data\n",
    "- Remove outliers\n",
    "    Remove rows with '0' value of either Glucose, BloodPressure, Skin Thickness, Insulin or BMI.\n",
    "    \n",
    "- Data Normalization\n",
    "    Because actual measured values for different features are on drastically different scales,\n",
    "    the feature with the larger scale may completely dominate the other, where normalization is necessary.\n",
    "    Here, we used min-max normalization method.\n",
    "    \n",
    "- Change data type into float\n",
    "    After normalization all data will be between 0 and 1, which is float datatype, which do not \n",
    "    able to fit data type in original dataset. So before normalization, convert datatype of those column is \n",
    "    a must."
   ]
  },
  {
   "cell_type": "markdown",
   "id": "53c72fc6",
   "metadata": {},
   "source": [
    "#### Step 3. Select and Train Models\n",
    "So, what model should we use?\n",
    "\n",
    "What we are trying to predict is whether or not a patient has diabetes ——\"is 'Outcome' yes or no？\".\n",
    "'Outcome' is the label, supervised learning algorithms can be used to deal with this sort of problems —— \n",
    "probabilistic statistical classification.\n",
    "\n",
    "- tried logistic regression model first\n",
    "\n",
    "\n",
    "- tried KNN model then\n",
    "\n",
    "\n",
    "- train two models separately"
   ]
  },
  {
   "cell_type": "markdown",
   "id": "61e7f38f",
   "metadata": {},
   "source": [
    "#### Step 4. Evaluation of Models\n",
    "- Evaluation of logistic regression model\n",
    "    - accuracy score gives a score for the proportion correct\n",
    "    - confusion matrix shows \n",
    "    - use REF to select features\n",
    "- Evaluation of KNN classifier\n",
    "    - accuracy score gives a score for the proportion correct\n",
    "    - Cross Validation (CV) method to tun the hyperparameter $K$\n",
    "    - GridSearchCV to find the best $K$"
   ]
  },
  {
   "cell_type": "markdown",
   "id": "79d7c1af",
   "metadata": {},
   "source": [
    "### Discussion\n",
    "#### From this unit, I have learned some of the tools that data scientist use.\n",
    "- using Python language to code for data science and machine learning models\n",
    "- fundamental Python Libraries: Pandas,Python Data Analysis Library, SCIKIT-Learn, Machine learning library,\n",
    "    NumPy and SciPy for numeric and scientific computation, Matplotlib and Seaborn for visualization.\n",
    "- Web Integrated Development Environment (WIDE): Jupyter\n",
    "- Github, the website and cloud-based service that helps developers store and manage their code, as well as track and control changes to their code. \n",
    "\n",
    "#### What can these toolboxes be used in the future?\n",
    "\n",
    "With these toolboxes, dataset can be easily transformed in the way we want, by reshaping it, adding or removing columns or rows;\n",
    "we can create static and visulize data, thus have a depth understanding of a dataset; common tasks in data analysis, such as classification, regression, clustering,\n",
    "dimensionality reduction, model selection and preprocessing, can be done with simple and efficient tools provided by machine learning libraries in Python. \n",
    "\n",
    "\n",
    "#### Why I choose Diabetes dataset?\n",
    "- this dataset has good size, not to big to load.\n",
    "- to compare two different classes of supervised models, classification, and regression analysis, of a probabilistic classification problem.  \n",
    "- to explore the use of data science and machine learning in the field of clinic research and medical diagnostics.\n",
    "\n",
    "#### Is data preprocessing the most important phase of a machine learning project?\n",
    "\n",
    "The answer of mine is yes. Even though, I chose a relatively small and clean dataset,\n",
    "the time costed in cleaning data in the whole process is the longest.\n",
    "- because of many issues of data collection, e.g., inconsistent standard, different context, human errors, etc., clean data is impossible,\n",
    "especially when the dataset is huge.\n",
    "- analyzing data that has not been carefully screened can be misleading.\n",
    "- when cleaning data, we can use common sense as well as background knowledge to rule out or drop\n",
    "impossible data combinations, missing values, improper code.\n",
    "- take advantage of visualization tools to get more knowledge of dataset is important which helps to tell stories by curating data into\n",
    "a form easier to understand, highlight the trends and the outliers.\n"
   ]
  }
 ],
 "metadata": {
  "kernelspec": {
   "display_name": "Python 3 (ipykernel)",
   "language": "python",
   "name": "python3"
  },
  "language_info": {
   "codemirror_mode": {
    "name": "ipython",
    "version": 3
   },
   "file_extension": ".py",
   "mimetype": "text/x-python",
   "name": "python",
   "nbconvert_exporter": "python",
   "pygments_lexer": "ipython3",
   "version": "3.9.7"
  }
 },
 "nbformat": 4,
 "nbformat_minor": 5
}
