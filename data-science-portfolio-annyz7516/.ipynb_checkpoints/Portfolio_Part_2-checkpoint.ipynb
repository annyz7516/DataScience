{
 "cells": [
  {
   "cell_type": "markdown",
   "id": "74bd35d7",
   "metadata": {},
   "source": [
    "## Portfolio Part 2"
   ]
  },
  {
   "cell_type": "markdown",
   "id": "b154a46c",
   "metadata": {},
   "source": [
    "The goal of the second Portfolio task is to train linear regression models to predict users' ratings towards movies. This involves a standard Data Science workflow: exploring data, building models, making predictions, and evaluating results. In this task, we will explore the impacts of feature selections and different sizes of training/testing data on the model performance. We will continue using the movielens dataset provided in Portfolio task 1. "
   ]
  },
  {
   "cell_type": "markdown",
   "id": "2566945d",
   "metadata": {},
   "source": [
    "### Import Cleaned MovieLens Dataset\n",
    "Save the cleaned data (i.e., after removing missing values and outliers) in the Portfolio task 1 as a csv file named 'movielens_data_clean.csv'. You may need to use the Pandas method, i.e., `to_csv`, for doing this. After that, please import the csv file (i.e., 'movielens_data_clean') and print out its total length."
   ]
  },
  {
   "cell_type": "code",
   "execution_count": 443,
   "id": "77e7deaa",
   "metadata": {},
   "outputs": [],
   "source": [
    "import numpy as np\n",
    "import pandas as pd\n",
    "import matplotlib.pyplot as plt\n",
    "%matplotlib inline\n",
    "import seaborn as sns\n",
    "\n",
    "df = pd.read_csv('files/movielens_data_clean.csv')"
   ]
  },
  {
   "cell_type": "markdown",
   "id": "2a656b42",
   "metadata": {},
   "source": [
    "### Explore the Dataset\n",
    "\n",
    "* Use the methods, i.e., `head()` and `info()`, to have a rough picture about the data, e.g., how many columns, and the data types of each column. \n",
    "* As our goal is to predict ratings given other columns, please get the correlations between age/gender/genre/occupation and rating by using the `corr()` method.\n",
    "* To get the correlations between different features, you may need to first convert the categorical features (i.e., gender, genre and occupation) into numerial values. For doing this, you may need to import `OrdinalEncoder` from `sklearn.preprocessing` (refer to the useful exmaples [here](https://pbpython.com/categorical-encoding.html))\n",
    "* Please provide ___necessary explanations/analysis___ on the correlations, and figure out which are the ___most___ and ___least___ corrleated features regarding rating. Try to ___discuss___ how the correlation will affect the final prediction results, if we use these features to train a regression model for rating prediction. In what follows, we will conduct experiments to verify your hypothesis."
   ]
  },
  {
   "cell_type": "code",
   "execution_count": 444,
   "id": "b722522d",
   "metadata": {},
   "outputs": [
    {
     "data": {
      "text/html": [
       "<div>\n",
       "<style scoped>\n",
       "    .dataframe tbody tr th:only-of-type {\n",
       "        vertical-align: middle;\n",
       "    }\n",
       "\n",
       "    .dataframe tbody tr th {\n",
       "        vertical-align: top;\n",
       "    }\n",
       "\n",
       "    .dataframe thead th {\n",
       "        text-align: right;\n",
       "    }\n",
       "</style>\n",
       "<table border=\"1\" class=\"dataframe\">\n",
       "  <thead>\n",
       "    <tr style=\"text-align: right;\">\n",
       "      <th></th>\n",
       "      <th>Unnamed: 0</th>\n",
       "      <th>userId</th>\n",
       "      <th>age</th>\n",
       "      <th>gender</th>\n",
       "      <th>occupation</th>\n",
       "      <th>movieId</th>\n",
       "      <th>rating</th>\n",
       "      <th>genre</th>\n",
       "      <th>timestamp</th>\n",
       "    </tr>\n",
       "  </thead>\n",
       "  <tbody>\n",
       "    <tr>\n",
       "      <th>0</th>\n",
       "      <td>0</td>\n",
       "      <td>196</td>\n",
       "      <td>49.0</td>\n",
       "      <td>M</td>\n",
       "      <td>writer</td>\n",
       "      <td>242</td>\n",
       "      <td>3.0</td>\n",
       "      <td>Comedy</td>\n",
       "      <td>881250949</td>\n",
       "    </tr>\n",
       "    <tr>\n",
       "      <th>1</th>\n",
       "      <td>2</td>\n",
       "      <td>22</td>\n",
       "      <td>25.0</td>\n",
       "      <td>M</td>\n",
       "      <td>writer</td>\n",
       "      <td>377</td>\n",
       "      <td>1.0</td>\n",
       "      <td>Children</td>\n",
       "      <td>878887116</td>\n",
       "    </tr>\n",
       "    <tr>\n",
       "      <th>2</th>\n",
       "      <td>3</td>\n",
       "      <td>244</td>\n",
       "      <td>28.0</td>\n",
       "      <td>M</td>\n",
       "      <td>technician</td>\n",
       "      <td>51</td>\n",
       "      <td>2.0</td>\n",
       "      <td>Romance</td>\n",
       "      <td>880606923</td>\n",
       "    </tr>\n",
       "    <tr>\n",
       "      <th>3</th>\n",
       "      <td>5</td>\n",
       "      <td>298</td>\n",
       "      <td>44.0</td>\n",
       "      <td>M</td>\n",
       "      <td>executive</td>\n",
       "      <td>474</td>\n",
       "      <td>4.0</td>\n",
       "      <td>War</td>\n",
       "      <td>884182806</td>\n",
       "    </tr>\n",
       "    <tr>\n",
       "      <th>4</th>\n",
       "      <td>7</td>\n",
       "      <td>253</td>\n",
       "      <td>26.0</td>\n",
       "      <td>F</td>\n",
       "      <td>librarian</td>\n",
       "      <td>465</td>\n",
       "      <td>5.0</td>\n",
       "      <td>Adventure</td>\n",
       "      <td>891628467</td>\n",
       "    </tr>\n",
       "  </tbody>\n",
       "</table>\n",
       "</div>"
      ],
      "text/plain": [
       "   Unnamed: 0  userId   age gender  occupation  movieId  rating      genre  \\\n",
       "0           0     196  49.0      M      writer      242     3.0     Comedy   \n",
       "1           2      22  25.0      M      writer      377     1.0   Children   \n",
       "2           3     244  28.0      M  technician       51     2.0    Romance   \n",
       "3           5     298  44.0      M   executive      474     4.0        War   \n",
       "4           7     253  26.0      F   librarian      465     5.0  Adventure   \n",
       "\n",
       "   timestamp  \n",
       "0  881250949  \n",
       "1  878887116  \n",
       "2  880606923  \n",
       "3  884182806  \n",
       "4  891628467  "
      ]
     },
     "execution_count": 444,
     "metadata": {},
     "output_type": "execute_result"
    }
   ],
   "source": [
    "df.head()"
   ]
  },
  {
   "cell_type": "code",
   "execution_count": 445,
   "id": "124d4d0d",
   "metadata": {},
   "outputs": [
    {
     "name": "stdout",
     "output_type": "stream",
     "text": [
      "<class 'pandas.core.frame.DataFrame'>\n",
      "RangeIndex: 96854 entries, 0 to 96853\n",
      "Data columns (total 9 columns):\n",
      " #   Column      Non-Null Count  Dtype  \n",
      "---  ------      --------------  -----  \n",
      " 0   Unnamed: 0  96854 non-null  int64  \n",
      " 1   userId      96854 non-null  int64  \n",
      " 2   age         96854 non-null  float64\n",
      " 3   gender      96854 non-null  object \n",
      " 4   occupation  96854 non-null  object \n",
      " 5   movieId     96854 non-null  int64  \n",
      " 6   rating      96854 non-null  float64\n",
      " 7   genre       96854 non-null  object \n",
      " 8   timestamp   96854 non-null  int64  \n",
      "dtypes: float64(2), int64(4), object(3)\n",
      "memory usage: 6.7+ MB\n"
     ]
    }
   ],
   "source": [
    "df.info()"
   ]
  },
  {
   "cell_type": "code",
   "execution_count": 446,
   "id": "3b717ec3",
   "metadata": {},
   "outputs": [
    {
     "name": "stdout",
     "output_type": "stream",
     "text": [
      "Number of columns in the clean data:  9\n"
     ]
    }
   ],
   "source": [
    "print('Number of columns in the clean data: ', len(df.columns))"
   ]
  },
  {
   "cell_type": "code",
   "execution_count": 447,
   "id": "85edd897",
   "metadata": {},
   "outputs": [
    {
     "name": "stdout",
     "output_type": "stream",
     "text": [
      "The length of the clean data is  96854\n"
     ]
    }
   ],
   "source": [
    "print('The length of the clean data is ', len(df))"
   ]
  },
  {
   "cell_type": "code",
   "execution_count": 448,
   "id": "508b0d75",
   "metadata": {},
   "outputs": [
    {
     "data": {
      "text/html": [
       "<div>\n",
       "<style scoped>\n",
       "    .dataframe tbody tr th:only-of-type {\n",
       "        vertical-align: middle;\n",
       "    }\n",
       "\n",
       "    .dataframe tbody tr th {\n",
       "        vertical-align: top;\n",
       "    }\n",
       "\n",
       "    .dataframe thead th {\n",
       "        text-align: right;\n",
       "    }\n",
       "</style>\n",
       "<table border=\"1\" class=\"dataframe\">\n",
       "  <thead>\n",
       "    <tr style=\"text-align: right;\">\n",
       "      <th></th>\n",
       "      <th>Unnamed: 0</th>\n",
       "      <th>userId</th>\n",
       "      <th>age</th>\n",
       "      <th>movieId</th>\n",
       "      <th>rating</th>\n",
       "      <th>timestamp</th>\n",
       "    </tr>\n",
       "  </thead>\n",
       "  <tbody>\n",
       "    <tr>\n",
       "      <th>Unnamed: 0</th>\n",
       "      <td>1.000000</td>\n",
       "      <td>0.629978</td>\n",
       "      <td>-0.039153</td>\n",
       "      <td>0.000764</td>\n",
       "      <td>-0.007872</td>\n",
       "      <td>0.007020</td>\n",
       "    </tr>\n",
       "    <tr>\n",
       "      <th>userId</th>\n",
       "      <td>0.629978</td>\n",
       "      <td>1.000000</td>\n",
       "      <td>-0.083878</td>\n",
       "      <td>0.009050</td>\n",
       "      <td>-0.010457</td>\n",
       "      <td>0.011709</td>\n",
       "    </tr>\n",
       "    <tr>\n",
       "      <th>age</th>\n",
       "      <td>-0.039153</td>\n",
       "      <td>-0.083878</td>\n",
       "      <td>1.000000</td>\n",
       "      <td>-0.012291</td>\n",
       "      <td>0.051724</td>\n",
       "      <td>0.151235</td>\n",
       "    </tr>\n",
       "    <tr>\n",
       "      <th>movieId</th>\n",
       "      <td>0.000764</td>\n",
       "      <td>0.009050</td>\n",
       "      <td>-0.012291</td>\n",
       "      <td>1.000000</td>\n",
       "      <td>-0.170336</td>\n",
       "      <td>0.033385</td>\n",
       "    </tr>\n",
       "    <tr>\n",
       "      <th>rating</th>\n",
       "      <td>-0.007872</td>\n",
       "      <td>-0.010457</td>\n",
       "      <td>0.051724</td>\n",
       "      <td>-0.170336</td>\n",
       "      <td>1.000000</td>\n",
       "      <td>-0.010571</td>\n",
       "    </tr>\n",
       "    <tr>\n",
       "      <th>timestamp</th>\n",
       "      <td>0.007020</td>\n",
       "      <td>0.011709</td>\n",
       "      <td>0.151235</td>\n",
       "      <td>0.033385</td>\n",
       "      <td>-0.010571</td>\n",
       "      <td>1.000000</td>\n",
       "    </tr>\n",
       "  </tbody>\n",
       "</table>\n",
       "</div>"
      ],
      "text/plain": [
       "            Unnamed: 0    userId       age   movieId    rating  timestamp\n",
       "Unnamed: 0    1.000000  0.629978 -0.039153  0.000764 -0.007872   0.007020\n",
       "userId        0.629978  1.000000 -0.083878  0.009050 -0.010457   0.011709\n",
       "age          -0.039153 -0.083878  1.000000 -0.012291  0.051724   0.151235\n",
       "movieId       0.000764  0.009050 -0.012291  1.000000 -0.170336   0.033385\n",
       "rating       -0.007872 -0.010457  0.051724 -0.170336  1.000000  -0.010571\n",
       "timestamp     0.007020  0.011709  0.151235  0.033385 -0.010571   1.000000"
      ]
     },
     "execution_count": 448,
     "metadata": {},
     "output_type": "execute_result"
    }
   ],
   "source": [
    "# get the correlations between age/gender/genre/occupation and rating by using the corr() method\n",
    "df.corr()"
   ]
  },
  {
   "cell_type": "markdown",
   "id": "632c42f6",
   "metadata": {},
   "source": [
    "### Analysis\n",
    "- from above data of correlations between rating and some numerical variables (eg. age), we can find out there is no significient correlations observed.\n",
    "- so categorical variables will be explored as followed."
   ]
  },
  {
   "cell_type": "code",
   "execution_count": 449,
   "id": "7da2e704",
   "metadata": {},
   "outputs": [
    {
     "data": {
      "text/plain": [
       "Unnamed: 0      int64\n",
       "userId          int64\n",
       "age           float64\n",
       "gender         object\n",
       "occupation     object\n",
       "movieId         int64\n",
       "rating        float64\n",
       "genre          object\n",
       "timestamp       int64\n",
       "dtype: object"
      ]
     },
     "execution_count": 449,
     "metadata": {},
     "output_type": "execute_result"
    }
   ],
   "source": [
    "df.dtypes"
   ]
  },
  {
   "cell_type": "code",
   "execution_count": 450,
   "id": "0b8caf29",
   "metadata": {},
   "outputs": [
    {
     "data": {
      "text/html": [
       "<div>\n",
       "<style scoped>\n",
       "    .dataframe tbody tr th:only-of-type {\n",
       "        vertical-align: middle;\n",
       "    }\n",
       "\n",
       "    .dataframe tbody tr th {\n",
       "        vertical-align: top;\n",
       "    }\n",
       "\n",
       "    .dataframe thead th {\n",
       "        text-align: right;\n",
       "    }\n",
       "</style>\n",
       "<table border=\"1\" class=\"dataframe\">\n",
       "  <thead>\n",
       "    <tr style=\"text-align: right;\">\n",
       "      <th></th>\n",
       "      <th>gender</th>\n",
       "      <th>occupation</th>\n",
       "      <th>genre</th>\n",
       "    </tr>\n",
       "  </thead>\n",
       "  <tbody>\n",
       "    <tr>\n",
       "      <th>0</th>\n",
       "      <td>M</td>\n",
       "      <td>writer</td>\n",
       "      <td>Comedy</td>\n",
       "    </tr>\n",
       "    <tr>\n",
       "      <th>1</th>\n",
       "      <td>M</td>\n",
       "      <td>writer</td>\n",
       "      <td>Children</td>\n",
       "    </tr>\n",
       "    <tr>\n",
       "      <th>2</th>\n",
       "      <td>M</td>\n",
       "      <td>technician</td>\n",
       "      <td>Romance</td>\n",
       "    </tr>\n",
       "    <tr>\n",
       "      <th>3</th>\n",
       "      <td>M</td>\n",
       "      <td>executive</td>\n",
       "      <td>War</td>\n",
       "    </tr>\n",
       "    <tr>\n",
       "      <th>4</th>\n",
       "      <td>F</td>\n",
       "      <td>librarian</td>\n",
       "      <td>Adventure</td>\n",
       "    </tr>\n",
       "  </tbody>\n",
       "</table>\n",
       "</div>"
      ],
      "text/plain": [
       "  gender  occupation      genre\n",
       "0      M      writer     Comedy\n",
       "1      M      writer   Children\n",
       "2      M  technician    Romance\n",
       "3      M   executive        War\n",
       "4      F   librarian  Adventure"
      ]
     },
     "execution_count": 450,
     "metadata": {},
     "output_type": "execute_result"
    }
   ],
   "source": [
    "# find out the catergorical features in the data\n",
    "obj_df = df.select_dtypes(include=['object']).copy()\n",
    "obj_df.head()"
   ]
  },
  {
   "cell_type": "code",
   "execution_count": 451,
   "id": "ca9cfac9",
   "metadata": {},
   "outputs": [
    {
     "data": {
      "text/html": [
       "<div>\n",
       "<style scoped>\n",
       "    .dataframe tbody tr th:only-of-type {\n",
       "        vertical-align: middle;\n",
       "    }\n",
       "\n",
       "    .dataframe tbody tr th {\n",
       "        vertical-align: top;\n",
       "    }\n",
       "\n",
       "    .dataframe thead th {\n",
       "        text-align: right;\n",
       "    }\n",
       "</style>\n",
       "<table border=\"1\" class=\"dataframe\">\n",
       "  <thead>\n",
       "    <tr style=\"text-align: right;\">\n",
       "      <th></th>\n",
       "      <th>occupation</th>\n",
       "      <th>occupation_code</th>\n",
       "    </tr>\n",
       "  </thead>\n",
       "  <tbody>\n",
       "    <tr>\n",
       "      <th>0</th>\n",
       "      <td>writer</td>\n",
       "      <td>19.0</td>\n",
       "    </tr>\n",
       "    <tr>\n",
       "      <th>1</th>\n",
       "      <td>writer</td>\n",
       "      <td>19.0</td>\n",
       "    </tr>\n",
       "    <tr>\n",
       "      <th>2</th>\n",
       "      <td>technician</td>\n",
       "      <td>18.0</td>\n",
       "    </tr>\n",
       "    <tr>\n",
       "      <th>3</th>\n",
       "      <td>executive</td>\n",
       "      <td>6.0</td>\n",
       "    </tr>\n",
       "    <tr>\n",
       "      <th>4</th>\n",
       "      <td>librarian</td>\n",
       "      <td>10.0</td>\n",
       "    </tr>\n",
       "  </tbody>\n",
       "</table>\n",
       "</div>"
      ],
      "text/plain": [
       "   occupation  occupation_code\n",
       "0      writer             19.0\n",
       "1      writer             19.0\n",
       "2  technician             18.0\n",
       "3   executive              6.0\n",
       "4   librarian             10.0"
      ]
     },
     "execution_count": 451,
     "metadata": {},
     "output_type": "execute_result"
    }
   ],
   "source": [
    "# convert the categorical features (i.e., gender, genre and occupation) into numerial values\n",
    "from sklearn.preprocessing import OrdinalEncoder\n",
    "ord_enc = OrdinalEncoder()\n",
    "df['occupation_code'] = ord_enc.fit_transform(df[['occupation']])\n",
    "df[['occupation', 'occupation_code']].head()"
   ]
  },
  {
   "cell_type": "code",
   "execution_count": 452,
   "id": "6fd98b26",
   "metadata": {},
   "outputs": [
    {
     "data": {
      "text/html": [
       "<div>\n",
       "<style scoped>\n",
       "    .dataframe tbody tr th:only-of-type {\n",
       "        vertical-align: middle;\n",
       "    }\n",
       "\n",
       "    .dataframe tbody tr th {\n",
       "        vertical-align: top;\n",
       "    }\n",
       "\n",
       "    .dataframe thead th {\n",
       "        text-align: right;\n",
       "    }\n",
       "</style>\n",
       "<table border=\"1\" class=\"dataframe\">\n",
       "  <thead>\n",
       "    <tr style=\"text-align: right;\">\n",
       "      <th></th>\n",
       "      <th>gender</th>\n",
       "      <th>gender_code</th>\n",
       "    </tr>\n",
       "  </thead>\n",
       "  <tbody>\n",
       "    <tr>\n",
       "      <th>0</th>\n",
       "      <td>M</td>\n",
       "      <td>1.0</td>\n",
       "    </tr>\n",
       "    <tr>\n",
       "      <th>1</th>\n",
       "      <td>M</td>\n",
       "      <td>1.0</td>\n",
       "    </tr>\n",
       "    <tr>\n",
       "      <th>2</th>\n",
       "      <td>M</td>\n",
       "      <td>1.0</td>\n",
       "    </tr>\n",
       "    <tr>\n",
       "      <th>3</th>\n",
       "      <td>M</td>\n",
       "      <td>1.0</td>\n",
       "    </tr>\n",
       "    <tr>\n",
       "      <th>4</th>\n",
       "      <td>F</td>\n",
       "      <td>0.0</td>\n",
       "    </tr>\n",
       "  </tbody>\n",
       "</table>\n",
       "</div>"
      ],
      "text/plain": [
       "  gender  gender_code\n",
       "0      M          1.0\n",
       "1      M          1.0\n",
       "2      M          1.0\n",
       "3      M          1.0\n",
       "4      F          0.0"
      ]
     },
     "execution_count": 452,
     "metadata": {},
     "output_type": "execute_result"
    }
   ],
   "source": [
    "df['gender_code'] = ord_enc.fit_transform(df[['gender']])\n",
    "df[['gender', 'gender_code']].head()"
   ]
  },
  {
   "cell_type": "code",
   "execution_count": 453,
   "id": "77efa111",
   "metadata": {},
   "outputs": [
    {
     "data": {
      "text/html": [
       "<div>\n",
       "<style scoped>\n",
       "    .dataframe tbody tr th:only-of-type {\n",
       "        vertical-align: middle;\n",
       "    }\n",
       "\n",
       "    .dataframe tbody tr th {\n",
       "        vertical-align: top;\n",
       "    }\n",
       "\n",
       "    .dataframe thead th {\n",
       "        text-align: right;\n",
       "    }\n",
       "</style>\n",
       "<table border=\"1\" class=\"dataframe\">\n",
       "  <thead>\n",
       "    <tr style=\"text-align: right;\">\n",
       "      <th></th>\n",
       "      <th>genre</th>\n",
       "      <th>genre_code</th>\n",
       "    </tr>\n",
       "  </thead>\n",
       "  <tbody>\n",
       "    <tr>\n",
       "      <th>0</th>\n",
       "      <td>Comedy</td>\n",
       "      <td>4.0</td>\n",
       "    </tr>\n",
       "    <tr>\n",
       "      <th>1</th>\n",
       "      <td>Children</td>\n",
       "      <td>3.0</td>\n",
       "    </tr>\n",
       "    <tr>\n",
       "      <th>2</th>\n",
       "      <td>Romance</td>\n",
       "      <td>13.0</td>\n",
       "    </tr>\n",
       "    <tr>\n",
       "      <th>3</th>\n",
       "      <td>War</td>\n",
       "      <td>16.0</td>\n",
       "    </tr>\n",
       "    <tr>\n",
       "      <th>4</th>\n",
       "      <td>Adventure</td>\n",
       "      <td>1.0</td>\n",
       "    </tr>\n",
       "  </tbody>\n",
       "</table>\n",
       "</div>"
      ],
      "text/plain": [
       "       genre  genre_code\n",
       "0     Comedy         4.0\n",
       "1   Children         3.0\n",
       "2    Romance        13.0\n",
       "3        War        16.0\n",
       "4  Adventure         1.0"
      ]
     },
     "execution_count": 453,
     "metadata": {},
     "output_type": "execute_result"
    }
   ],
   "source": [
    "df['genre_code'] = ord_enc.fit_transform(df[['genre']])\n",
    "df[['genre', 'genre_code']].head()"
   ]
  },
  {
   "cell_type": "code",
   "execution_count": 454,
   "id": "95cb561a",
   "metadata": {},
   "outputs": [
    {
     "data": {
      "text/html": [
       "<div>\n",
       "<style scoped>\n",
       "    .dataframe tbody tr th:only-of-type {\n",
       "        vertical-align: middle;\n",
       "    }\n",
       "\n",
       "    .dataframe tbody tr th {\n",
       "        vertical-align: top;\n",
       "    }\n",
       "\n",
       "    .dataframe thead th {\n",
       "        text-align: right;\n",
       "    }\n",
       "</style>\n",
       "<table border=\"1\" class=\"dataframe\">\n",
       "  <thead>\n",
       "    <tr style=\"text-align: right;\">\n",
       "      <th></th>\n",
       "      <th>Unnamed: 0</th>\n",
       "      <th>userId</th>\n",
       "      <th>age</th>\n",
       "      <th>gender</th>\n",
       "      <th>occupation</th>\n",
       "      <th>movieId</th>\n",
       "      <th>rating</th>\n",
       "      <th>genre</th>\n",
       "      <th>timestamp</th>\n",
       "      <th>occupation_code</th>\n",
       "      <th>gender_code</th>\n",
       "      <th>genre_code</th>\n",
       "    </tr>\n",
       "  </thead>\n",
       "  <tbody>\n",
       "    <tr>\n",
       "      <th>0</th>\n",
       "      <td>0</td>\n",
       "      <td>196</td>\n",
       "      <td>49.0</td>\n",
       "      <td>M</td>\n",
       "      <td>writer</td>\n",
       "      <td>242</td>\n",
       "      <td>3.0</td>\n",
       "      <td>Comedy</td>\n",
       "      <td>881250949</td>\n",
       "      <td>19.0</td>\n",
       "      <td>1.0</td>\n",
       "      <td>4.0</td>\n",
       "    </tr>\n",
       "    <tr>\n",
       "      <th>1</th>\n",
       "      <td>2</td>\n",
       "      <td>22</td>\n",
       "      <td>25.0</td>\n",
       "      <td>M</td>\n",
       "      <td>writer</td>\n",
       "      <td>377</td>\n",
       "      <td>1.0</td>\n",
       "      <td>Children</td>\n",
       "      <td>878887116</td>\n",
       "      <td>19.0</td>\n",
       "      <td>1.0</td>\n",
       "      <td>3.0</td>\n",
       "    </tr>\n",
       "    <tr>\n",
       "      <th>2</th>\n",
       "      <td>3</td>\n",
       "      <td>244</td>\n",
       "      <td>28.0</td>\n",
       "      <td>M</td>\n",
       "      <td>technician</td>\n",
       "      <td>51</td>\n",
       "      <td>2.0</td>\n",
       "      <td>Romance</td>\n",
       "      <td>880606923</td>\n",
       "      <td>18.0</td>\n",
       "      <td>1.0</td>\n",
       "      <td>13.0</td>\n",
       "    </tr>\n",
       "    <tr>\n",
       "      <th>3</th>\n",
       "      <td>5</td>\n",
       "      <td>298</td>\n",
       "      <td>44.0</td>\n",
       "      <td>M</td>\n",
       "      <td>executive</td>\n",
       "      <td>474</td>\n",
       "      <td>4.0</td>\n",
       "      <td>War</td>\n",
       "      <td>884182806</td>\n",
       "      <td>6.0</td>\n",
       "      <td>1.0</td>\n",
       "      <td>16.0</td>\n",
       "    </tr>\n",
       "    <tr>\n",
       "      <th>4</th>\n",
       "      <td>7</td>\n",
       "      <td>253</td>\n",
       "      <td>26.0</td>\n",
       "      <td>F</td>\n",
       "      <td>librarian</td>\n",
       "      <td>465</td>\n",
       "      <td>5.0</td>\n",
       "      <td>Adventure</td>\n",
       "      <td>891628467</td>\n",
       "      <td>10.0</td>\n",
       "      <td>0.0</td>\n",
       "      <td>1.0</td>\n",
       "    </tr>\n",
       "  </tbody>\n",
       "</table>\n",
       "</div>"
      ],
      "text/plain": [
       "   Unnamed: 0  userId   age gender  occupation  movieId  rating      genre  \\\n",
       "0           0     196  49.0      M      writer      242     3.0     Comedy   \n",
       "1           2      22  25.0      M      writer      377     1.0   Children   \n",
       "2           3     244  28.0      M  technician       51     2.0    Romance   \n",
       "3           5     298  44.0      M   executive      474     4.0        War   \n",
       "4           7     253  26.0      F   librarian      465     5.0  Adventure   \n",
       "\n",
       "   timestamp  occupation_code  gender_code  genre_code  \n",
       "0  881250949             19.0          1.0         4.0  \n",
       "1  878887116             19.0          1.0         3.0  \n",
       "2  880606923             18.0          1.0        13.0  \n",
       "3  884182806              6.0          1.0        16.0  \n",
       "4  891628467             10.0          0.0         1.0  "
      ]
     },
     "execution_count": 454,
     "metadata": {},
     "output_type": "execute_result"
    }
   ],
   "source": [
    "df.head()"
   ]
  },
  {
   "cell_type": "code",
   "execution_count": 455,
   "id": "f1bbf2ce",
   "metadata": {},
   "outputs": [
    {
     "data": {
      "text/html": [
       "<div>\n",
       "<style scoped>\n",
       "    .dataframe tbody tr th:only-of-type {\n",
       "        vertical-align: middle;\n",
       "    }\n",
       "\n",
       "    .dataframe tbody tr th {\n",
       "        vertical-align: top;\n",
       "    }\n",
       "\n",
       "    .dataframe thead th {\n",
       "        text-align: right;\n",
       "    }\n",
       "</style>\n",
       "<table border=\"1\" class=\"dataframe\">\n",
       "  <thead>\n",
       "    <tr style=\"text-align: right;\">\n",
       "      <th></th>\n",
       "      <th>Unnamed: 0</th>\n",
       "      <th>userId</th>\n",
       "      <th>age</th>\n",
       "      <th>movieId</th>\n",
       "      <th>rating</th>\n",
       "      <th>timestamp</th>\n",
       "      <th>occupation_code</th>\n",
       "      <th>gender_code</th>\n",
       "      <th>genre_code</th>\n",
       "    </tr>\n",
       "  </thead>\n",
       "  <tbody>\n",
       "    <tr>\n",
       "      <th>Unnamed: 0</th>\n",
       "      <td>1.000000</td>\n",
       "      <td>0.629978</td>\n",
       "      <td>-0.039153</td>\n",
       "      <td>0.000764</td>\n",
       "      <td>-0.007872</td>\n",
       "      <td>0.007020</td>\n",
       "      <td>0.048261</td>\n",
       "      <td>-0.012650</td>\n",
       "      <td>-0.004451</td>\n",
       "    </tr>\n",
       "    <tr>\n",
       "      <th>userId</th>\n",
       "      <td>0.629978</td>\n",
       "      <td>1.000000</td>\n",
       "      <td>-0.083878</td>\n",
       "      <td>0.009050</td>\n",
       "      <td>-0.010457</td>\n",
       "      <td>0.011709</td>\n",
       "      <td>0.105737</td>\n",
       "      <td>-0.020771</td>\n",
       "      <td>-0.000300</td>\n",
       "    </tr>\n",
       "    <tr>\n",
       "      <th>age</th>\n",
       "      <td>-0.039153</td>\n",
       "      <td>-0.083878</td>\n",
       "      <td>1.000000</td>\n",
       "      <td>-0.012291</td>\n",
       "      <td>0.051724</td>\n",
       "      <td>0.151235</td>\n",
       "      <td>-0.370879</td>\n",
       "      <td>0.037126</td>\n",
       "      <td>0.027286</td>\n",
       "    </tr>\n",
       "    <tr>\n",
       "      <th>movieId</th>\n",
       "      <td>0.000764</td>\n",
       "      <td>0.009050</td>\n",
       "      <td>-0.012291</td>\n",
       "      <td>1.000000</td>\n",
       "      <td>-0.170336</td>\n",
       "      <td>0.033385</td>\n",
       "      <td>0.010621</td>\n",
       "      <td>-0.024815</td>\n",
       "      <td>-0.044081</td>\n",
       "    </tr>\n",
       "    <tr>\n",
       "      <th>rating</th>\n",
       "      <td>-0.007872</td>\n",
       "      <td>-0.010457</td>\n",
       "      <td>0.051724</td>\n",
       "      <td>-0.170336</td>\n",
       "      <td>1.000000</td>\n",
       "      <td>-0.010571</td>\n",
       "      <td>-0.033717</td>\n",
       "      <td>-0.007239</td>\n",
       "      <td>0.045250</td>\n",
       "    </tr>\n",
       "    <tr>\n",
       "      <th>timestamp</th>\n",
       "      <td>0.007020</td>\n",
       "      <td>0.011709</td>\n",
       "      <td>0.151235</td>\n",
       "      <td>0.033385</td>\n",
       "      <td>-0.010571</td>\n",
       "      <td>1.000000</td>\n",
       "      <td>0.029706</td>\n",
       "      <td>-0.032392</td>\n",
       "      <td>0.009180</td>\n",
       "    </tr>\n",
       "    <tr>\n",
       "      <th>occupation_code</th>\n",
       "      <td>0.048261</td>\n",
       "      <td>0.105737</td>\n",
       "      <td>-0.370879</td>\n",
       "      <td>0.010621</td>\n",
       "      <td>-0.033717</td>\n",
       "      <td>0.029706</td>\n",
       "      <td>1.000000</td>\n",
       "      <td>0.012117</td>\n",
       "      <td>-0.011443</td>\n",
       "    </tr>\n",
       "    <tr>\n",
       "      <th>gender_code</th>\n",
       "      <td>-0.012650</td>\n",
       "      <td>-0.020771</td>\n",
       "      <td>0.037126</td>\n",
       "      <td>-0.024815</td>\n",
       "      <td>-0.007239</td>\n",
       "      <td>-0.032392</td>\n",
       "      <td>0.012117</td>\n",
       "      <td>1.000000</td>\n",
       "      <td>-0.000509</td>\n",
       "    </tr>\n",
       "    <tr>\n",
       "      <th>genre_code</th>\n",
       "      <td>-0.004451</td>\n",
       "      <td>-0.000300</td>\n",
       "      <td>0.027286</td>\n",
       "      <td>-0.044081</td>\n",
       "      <td>0.045250</td>\n",
       "      <td>0.009180</td>\n",
       "      <td>-0.011443</td>\n",
       "      <td>-0.000509</td>\n",
       "      <td>1.000000</td>\n",
       "    </tr>\n",
       "  </tbody>\n",
       "</table>\n",
       "</div>"
      ],
      "text/plain": [
       "                 Unnamed: 0    userId       age   movieId    rating  \\\n",
       "Unnamed: 0         1.000000  0.629978 -0.039153  0.000764 -0.007872   \n",
       "userId             0.629978  1.000000 -0.083878  0.009050 -0.010457   \n",
       "age               -0.039153 -0.083878  1.000000 -0.012291  0.051724   \n",
       "movieId            0.000764  0.009050 -0.012291  1.000000 -0.170336   \n",
       "rating            -0.007872 -0.010457  0.051724 -0.170336  1.000000   \n",
       "timestamp          0.007020  0.011709  0.151235  0.033385 -0.010571   \n",
       "occupation_code    0.048261  0.105737 -0.370879  0.010621 -0.033717   \n",
       "gender_code       -0.012650 -0.020771  0.037126 -0.024815 -0.007239   \n",
       "genre_code        -0.004451 -0.000300  0.027286 -0.044081  0.045250   \n",
       "\n",
       "                 timestamp  occupation_code  gender_code  genre_code  \n",
       "Unnamed: 0        0.007020         0.048261    -0.012650   -0.004451  \n",
       "userId            0.011709         0.105737    -0.020771   -0.000300  \n",
       "age               0.151235        -0.370879     0.037126    0.027286  \n",
       "movieId           0.033385         0.010621    -0.024815   -0.044081  \n",
       "rating           -0.010571        -0.033717    -0.007239    0.045250  \n",
       "timestamp         1.000000         0.029706    -0.032392    0.009180  \n",
       "occupation_code   0.029706         1.000000     0.012117   -0.011443  \n",
       "gender_code      -0.032392         0.012117     1.000000   -0.000509  \n",
       "genre_code        0.009180        -0.011443    -0.000509    1.000000  "
      ]
     },
     "execution_count": 455,
     "metadata": {},
     "output_type": "execute_result"
    }
   ],
   "source": [
    "df.corr()"
   ]
  },
  {
   "cell_type": "code",
   "execution_count": 456,
   "id": "bf1cf46e",
   "metadata": {},
   "outputs": [],
   "source": [
    "df_num = df.drop(columns=['age', 'Unnamed: 0', 'userId', 'movieId', 'timestamp', 'occupation', 'genre', 'gender'])"
   ]
  },
  {
   "cell_type": "code",
   "execution_count": 457,
   "id": "3d13407a",
   "metadata": {},
   "outputs": [
    {
     "data": {
      "text/html": [
       "<div>\n",
       "<style scoped>\n",
       "    .dataframe tbody tr th:only-of-type {\n",
       "        vertical-align: middle;\n",
       "    }\n",
       "\n",
       "    .dataframe tbody tr th {\n",
       "        vertical-align: top;\n",
       "    }\n",
       "\n",
       "    .dataframe thead th {\n",
       "        text-align: right;\n",
       "    }\n",
       "</style>\n",
       "<table border=\"1\" class=\"dataframe\">\n",
       "  <thead>\n",
       "    <tr style=\"text-align: right;\">\n",
       "      <th></th>\n",
       "      <th>rating</th>\n",
       "      <th>occupation_code</th>\n",
       "      <th>gender_code</th>\n",
       "      <th>genre_code</th>\n",
       "    </tr>\n",
       "  </thead>\n",
       "  <tbody>\n",
       "    <tr>\n",
       "      <th>0</th>\n",
       "      <td>3.0</td>\n",
       "      <td>19.0</td>\n",
       "      <td>1.0</td>\n",
       "      <td>4.0</td>\n",
       "    </tr>\n",
       "    <tr>\n",
       "      <th>1</th>\n",
       "      <td>1.0</td>\n",
       "      <td>19.0</td>\n",
       "      <td>1.0</td>\n",
       "      <td>3.0</td>\n",
       "    </tr>\n",
       "    <tr>\n",
       "      <th>2</th>\n",
       "      <td>2.0</td>\n",
       "      <td>18.0</td>\n",
       "      <td>1.0</td>\n",
       "      <td>13.0</td>\n",
       "    </tr>\n",
       "    <tr>\n",
       "      <th>3</th>\n",
       "      <td>4.0</td>\n",
       "      <td>6.0</td>\n",
       "      <td>1.0</td>\n",
       "      <td>16.0</td>\n",
       "    </tr>\n",
       "    <tr>\n",
       "      <th>4</th>\n",
       "      <td>5.0</td>\n",
       "      <td>10.0</td>\n",
       "      <td>0.0</td>\n",
       "      <td>1.0</td>\n",
       "    </tr>\n",
       "  </tbody>\n",
       "</table>\n",
       "</div>"
      ],
      "text/plain": [
       "   rating  occupation_code  gender_code  genre_code\n",
       "0     3.0             19.0          1.0         4.0\n",
       "1     1.0             19.0          1.0         3.0\n",
       "2     2.0             18.0          1.0        13.0\n",
       "3     4.0              6.0          1.0        16.0\n",
       "4     5.0             10.0          0.0         1.0"
      ]
     },
     "execution_count": 457,
     "metadata": {},
     "output_type": "execute_result"
    }
   ],
   "source": [
    "df_num.head()"
   ]
  },
  {
   "cell_type": "code",
   "execution_count": 458,
   "id": "5e139e51",
   "metadata": {},
   "outputs": [
    {
     "data": {
      "text/html": [
       "<div>\n",
       "<style scoped>\n",
       "    .dataframe tbody tr th:only-of-type {\n",
       "        vertical-align: middle;\n",
       "    }\n",
       "\n",
       "    .dataframe tbody tr th {\n",
       "        vertical-align: top;\n",
       "    }\n",
       "\n",
       "    .dataframe thead th {\n",
       "        text-align: right;\n",
       "    }\n",
       "</style>\n",
       "<table border=\"1\" class=\"dataframe\">\n",
       "  <thead>\n",
       "    <tr style=\"text-align: right;\">\n",
       "      <th></th>\n",
       "      <th>rating</th>\n",
       "      <th>occupation_code</th>\n",
       "      <th>gender_code</th>\n",
       "      <th>genre_code</th>\n",
       "    </tr>\n",
       "  </thead>\n",
       "  <tbody>\n",
       "    <tr>\n",
       "      <th>rating</th>\n",
       "      <td>1.000000</td>\n",
       "      <td>-0.033717</td>\n",
       "      <td>-0.007239</td>\n",
       "      <td>0.045250</td>\n",
       "    </tr>\n",
       "    <tr>\n",
       "      <th>occupation_code</th>\n",
       "      <td>-0.033717</td>\n",
       "      <td>1.000000</td>\n",
       "      <td>0.012117</td>\n",
       "      <td>-0.011443</td>\n",
       "    </tr>\n",
       "    <tr>\n",
       "      <th>gender_code</th>\n",
       "      <td>-0.007239</td>\n",
       "      <td>0.012117</td>\n",
       "      <td>1.000000</td>\n",
       "      <td>-0.000509</td>\n",
       "    </tr>\n",
       "    <tr>\n",
       "      <th>genre_code</th>\n",
       "      <td>0.045250</td>\n",
       "      <td>-0.011443</td>\n",
       "      <td>-0.000509</td>\n",
       "      <td>1.000000</td>\n",
       "    </tr>\n",
       "  </tbody>\n",
       "</table>\n",
       "</div>"
      ],
      "text/plain": [
       "                   rating  occupation_code  gender_code  genre_code\n",
       "rating           1.000000        -0.033717    -0.007239    0.045250\n",
       "occupation_code -0.033717         1.000000     0.012117   -0.011443\n",
       "gender_code     -0.007239         0.012117     1.000000   -0.000509\n",
       "genre_code       0.045250        -0.011443    -0.000509    1.000000"
      ]
     },
     "execution_count": 458,
     "metadata": {},
     "output_type": "execute_result"
    }
   ],
   "source": [
    "df_num.corr()"
   ]
  },
  {
   "cell_type": "markdown",
   "id": "f620fe97",
   "metadata": {},
   "source": [
    "### Analysis and Observation\n",
    "- corration between genre and rating (0.045) is higher than that between occupation and rating (0.033), which means the impact of rating from genre is a bit higher than occupation, both are very low.\n",
    "- the impact of gender is unsurprisingly quite low which is only 0.007, so there is no significant differeces observed between male and female on rating."
   ]
  },
  {
   "cell_type": "markdown",
   "id": "7606c849",
   "metadata": {},
   "source": [
    "### Split Training and Testing Data\n",
    "* Machine learning models are trained to help make predictions for the future. Normally, we need to randomly split the dataset into training and testing sets, where we use the training set to train the model, and then leverage the well-trained model to make predictions on the testing set. \n",
    "* To further investigate whether the size of the training/testing data affects the model performance, please random split the data into training and testing sets with different sizes:\n",
    "    * Case 1: training data containing 10% of the entire data;\n",
    "    * Case 2: training data containing 90% of the entire data. \n",
    "* Print the shape of training and testing sets in the two cases. "
   ]
  },
  {
   "cell_type": "code",
   "execution_count": 459,
   "id": "f8eeeec6",
   "metadata": {},
   "outputs": [],
   "source": [
    "# explore linear regression between occupation and rating\n",
    "from sklearn.model_selection import train_test_split\n",
    "from sklearn import linear_model\n",
    "from sklearn.linear_model import LinearRegression\n",
    "from sklearn.metrics import r2_score, mean_squared_error, mean_absolute_error"
   ]
  },
  {
   "cell_type": "code",
   "execution_count": 460,
   "id": "34d11bb8",
   "metadata": {},
   "outputs": [
    {
     "name": "stdout",
     "output_type": "stream",
     "text": [
      "(9685, 4)\n",
      "(87169, 4)\n"
     ]
    }
   ],
   "source": [
    "# Split training and testing data according to requirement of case 1\n",
    "train1, test1 = train_test_split(df_num, test_size=0.9, random_state=142)\n",
    "print(train1.shape)\n",
    "print(test1.shape)"
   ]
  },
  {
   "cell_type": "code",
   "execution_count": 461,
   "id": "026b0aa0",
   "metadata": {},
   "outputs": [
    {
     "name": "stdout",
     "output_type": "stream",
     "text": [
      "(87168, 4)\n",
      "(9686, 4)\n"
     ]
    }
   ],
   "source": [
    "# Split training and testing data according to requirement of case 2\n",
    "train2, test2 = train_test_split(df_num, test_size=0.1, random_state=142)\n",
    "print(train2.shape)\n",
    "print(test2.shape)"
   ]
  },
  {
   "cell_type": "markdown",
   "id": "14600224",
   "metadata": {},
   "source": [
    "### Train Linear Regression Models with Feature Selection under Cases 1 & 2\n",
    "* When training a machine learning model for prediction, we may need to select the most important/correlated input features for more accurate results. \n",
    "* To investigate whether feature selection affects the model performance, please select two most correlated features and two least correlated features regarding rating, respectively. \n",
    "* Train four linear regression models by following the conditions:\n",
    "    - (model-a) using the training/testing data in case 1 with two most correlated input features\n",
    "    - (model-b) using the training/testing data in case 1 with two least correlated input features\n",
    "    - (model-c) using the training/testing data in case 2 with two most correlated input features\n",
    "    - (model-d) using the training/testing data in case 2 with two least correlated input features\n",
    "* By doing this, we can verify the impacts of the size of traing/testing data on the model performance via comparing model-a and model-c (or model-b and model-d); meanwhile the impacts of feature selection can be validated via comparing model-a and model-b (or model-c and model-d).    "
   ]
  },
  {
   "cell_type": "markdown",
   "id": "dc715596",
   "metadata": {},
   "source": [
    "# train model with the most correlated feature: genre with case 1 (named model_a)\n",
    "X_train1_1 = train1[['genre_code','occupation_code']]\n",
    "y_train1_1 = train1['rating']\n",
    "X_test1_1 = test1[['genre_code','occupation_code']]\n",
    "y_test1_1 = test1['rating']\n",
    "model_a = linear_model.LinearRegression()\n",
    "model_a.fit(X_train1_1, y_train1_1)\n",
    "predicted = model_a.predict(X_test1_1)\n",
    "print('y = X * ', model_a.coef_, ' + ', model_a.intercept_)"
   ]
  },
  {
   "cell_type": "code",
   "execution_count": 462,
   "id": "15c75ff9",
   "metadata": {},
   "outputs": [
    {
     "name": "stdout",
     "output_type": "stream",
     "text": [
      "y = X *  [-0.03358934 -0.00611214]  +  3.6392769675507215\n"
     ]
    }
   ],
   "source": [
    "# train model with the Least correlated feature: gender with case 1 (named model_b)\n",
    "X_train1_2 = train1[['gender_code','occupation_code']]\n",
    "y_train1_2 = train1['rating']\n",
    "X_test1_2 = test1[['gender_code','occupation_code']]\n",
    "y_test1_2 = test1['rating']\n",
    "model_b = linear_model.LinearRegression()\n",
    "model_b.fit(X_train1_2, y_train1_2)\n",
    "predicted = model_b.predict(X_test1_2)\n",
    "print('y = X * ', model_b.coef_, ' + ', model_b.intercept_)"
   ]
  },
  {
   "cell_type": "code",
   "execution_count": 463,
   "id": "44dd8a01",
   "metadata": {},
   "outputs": [
    {
     "name": "stdout",
     "output_type": "stream",
     "text": [
      "y = X *  [ 0.01026927 -0.00609466]  +  3.531937903674248\n"
     ]
    }
   ],
   "source": [
    "# train model with the most correlated feature: genre with case 2 (named model_c)\n",
    "X_train2_1 = train2[['genre_code','occupation_code']]\n",
    "y_train2_1 = train2['rating']\n",
    "X_test2_1 = test2[['genre_code','occupation_code']]\n",
    "y_test2_1 = test2['rating']\n",
    "model_c = linear_model.LinearRegression()\n",
    "model_c.fit(X_train2_1, y_train2_1)\n",
    "predicted = model_a.predict(X_test2_1)\n",
    "print('y = X * ', model_c.coef_, ' + ', model_c.intercept_)"
   ]
  },
  {
   "cell_type": "code",
   "execution_count": 464,
   "id": "a47b558f",
   "metadata": {},
   "outputs": [
    {
     "name": "stdout",
     "output_type": "stream",
     "text": [
      "y = X *  [-0.0169298  -0.00615977]  +  3.622008557283405\n"
     ]
    }
   ],
   "source": [
    "# train model with the most correlated feature: genre with case 2 (named model_d)\n",
    "X_train2_2 = train2[['gender_code','occupation_code']]\n",
    "y_train2_2 = train2['rating']\n",
    "X_test2_2 = test2[['gender_code','occupation_code']]\n",
    "y_test2_2 = test2['rating']\n",
    "model_d = linear_model.LinearRegression()\n",
    "model_d.fit(X_train2_2, y_train2_2)\n",
    "predicted = model_d.predict(X_test2_2)\n",
    "print('y = X * ', model_d.coef_, ' + ', model_d.intercept_)"
   ]
  },
  {
   "cell_type": "markdown",
   "id": "5c892d00",
   "metadata": {},
   "source": [
    "### Analysis and Observation\n",
    "All coefficients in 4 models (a, b, c and d) are very low, each value are much lower than corresponding intercept. \n",
    "\n",
    "So the impact of genre, occupation and gender regarding rating are all very low."
   ]
  },
  {
   "cell_type": "markdown",
   "id": "f85c7279",
   "metadata": {},
   "source": [
    "### Evaluate Models\n",
    "* Evaluate the performance of the four models with two metrics, including MSE and Root MSE\n",
    "* Print the results of the four models regarding the two metrics"
   ]
  },
  {
   "cell_type": "code",
   "execution_count": 465,
   "id": "ecc88e5a",
   "metadata": {},
   "outputs": [
    {
     "name": "stdout",
     "output_type": "stream",
     "text": [
      "MSE:  1.2431837271679511\n",
      "RMSE:  1.114981491849955\n",
      "R^2:  0.0030900310784778284\n"
     ]
    }
   ],
   "source": [
    "# Evaluate model_a\n",
    "y_test1_1_pred = model_a.predict(X_test1_1)\n",
    "\n",
    "MSE_a = mean_squared_error(y_test1_1, y_test1_1_pred)\n",
    "RMSE_a = np.sqrt(mean_squared_error(y_test1_1, y_test1_1_pred))\n",
    "R_squaure_a = r2_score(y_test1_1, y_test1_1_pred)\n",
    "print('MSE: ', MSE_a)\n",
    "print('RMSE: ', RMSE_a)\n",
    "print('R^2: ', R_squaure_a)"
   ]
  },
  {
   "cell_type": "code",
   "execution_count": 466,
   "id": "f3b20e0e",
   "metadata": {},
   "outputs": [
    {
     "name": "stdout",
     "output_type": "stream",
     "text": [
      "MSE:  1.2456735046160612\n",
      "RMSE:  1.116097444050501\n",
      "R^2:  0.0010934766640541271\n"
     ]
    }
   ],
   "source": [
    "# Evaluate model_b\n",
    "y_test1_2_pred = model_b.predict(X_test1_2)\n",
    "\n",
    "MSE_b = mean_squared_error(y_test1_2, y_test1_2_pred)\n",
    "RMSE_b = np.sqrt(mean_squared_error(y_test1_2, y_test1_2_pred))\n",
    "R_squaure_b = r2_score(y_test1_2, y_test1_2_pred)\n",
    "print('MSE: ', MSE_b)\n",
    "print('RMSE: ', RMSE_b)\n",
    "print('R^2: ', R_squaure_b)"
   ]
  },
  {
   "cell_type": "code",
   "execution_count": 467,
   "id": "13163663",
   "metadata": {},
   "outputs": [
    {
     "name": "stdout",
     "output_type": "stream",
     "text": [
      "MSE:  1.2336325128107846\n",
      "RMSE:  1.1106901065602344\n",
      "R^2:  0.00251686133484208\n"
     ]
    }
   ],
   "source": [
    "# Evaluate model_c\n",
    "y_test2_1_pred = model_c.predict(X_test2_1)\n",
    "\n",
    "MSE_c = mean_squared_error(y_test2_1, y_test2_1_pred)\n",
    "RMSE_c = np.sqrt(mean_squared_error(y_test2_1, y_test2_1_pred))\n",
    "R_squaure_c = r2_score(y_test2_1, y_test2_1_pred)\n",
    "print('MSE: ', MSE_c)\n",
    "print('RMSE: ', RMSE_c)\n",
    "print('R^2: ', R_squaure_c)"
   ]
  },
  {
   "cell_type": "code",
   "execution_count": 468,
   "id": "107ac4db",
   "metadata": {},
   "outputs": [
    {
     "name": "stdout",
     "output_type": "stream",
     "text": [
      "MSE:  1.235738021409161\n",
      "RMSE:  1.1116375404821308\n",
      "R^2:  0.0008144018881388604\n"
     ]
    }
   ],
   "source": [
    "# Evaluate model_d\n",
    "y_test2_2_pred = model_d.predict(X_test2_2)\n",
    "\n",
    "MSE_d = mean_squared_error(y_test2_2, y_test2_2_pred)\n",
    "RMSE_d = np.sqrt(mean_squared_error(y_test2_2, y_test2_2_pred))\n",
    "R_squaure_d = r2_score(y_test2_2, y_test2_2_pred)\n",
    "print('MSE: ', MSE_d)\n",
    "print('RMSE: ', RMSE_d)\n",
    "print('R^2: ', R_squaure_d)"
   ]
  },
  {
   "cell_type": "markdown",
   "id": "8c614fb5",
   "metadata": {},
   "source": [
    "### Visualize, Compare and Analyze the Results\n",
    "* Visulize the results, and perform ___insightful analysis___ on the obtained results. For better visualization, you may need to carefully set the scale for the y-axis.\n",
    "* Normally, the model trained with most correlated features and more training data will get better results. Do you obtain the similar observations? If not, please ___explain the possible reasons___."
   ]
  },
  {
   "cell_type": "code",
   "execution_count": 469,
   "id": "29b9988b",
   "metadata": {},
   "outputs": [
    {
     "name": "stdout",
     "output_type": "stream",
     "text": [
      "        mse      rmse        R2\n",
      "0  1.243184  1.114981  0.003090\n",
      "1  1.245674  1.116097  0.001093\n",
      "2  1.233633  1.110690  0.002517\n",
      "3  1.235738  1.111638  0.000814\n"
     ]
    }
   ],
   "source": [
    "data = {'mse':[MSE_a, MSE_b, MSE_c, MSE_d],\n",
    "        'rmse':[RMSE_a, RMSE_b, RMSE_c, RMSE_d],\n",
    "        'R2':[R_squaure_a, R_squaure_b, R_squaure_c, R_squaure_d]}\n",
    "df_metrics = pd.DataFrame(data)\n",
    "print(df_metrics)"
   ]
  },
  {
   "cell_type": "code",
   "execution_count": 470,
   "id": "4e24062b",
   "metadata": {},
   "outputs": [
    {
     "data": {
      "image/png": "[encoded data removed]",
      "text/plain": [
       "<Figure size 432x288 with 1 Axes>"
      ]
     },
     "metadata": {
      "needs_background": "light"
     },
     "output_type": "display_data"
    }
   ],
   "source": [
    "mse = [MSE_a, MSE_b, MSE_c, MSE_d]\n",
    "rmse = [RMSE_a, RMSE_b, RMSE_c, RMSE_d]\n",
    "R2 = [R_squaure_a, R_squaure_b, R_squaure_c, R_squaure_d]\n",
    "index = ['model_a', 'model_b', 'model_c', 'model_d']\n",
    "df_mse = pd.DataFrame({'mse': mse,\n",
    "                       'rmse': rmse}, index=index)\n",
    "ax = df_mse.plot.bar()"
   ]
  },
  {
   "cell_type": "code",
   "execution_count": 471,
   "id": "990f698c",
   "metadata": {},
   "outputs": [
    {
     "data": {
      "image/png": "[encoded data removed]",
      "text/plain": [
       "<Figure size 432x288 with 1 Axes>"
      ]
     },
     "metadata": {
      "needs_background": "light"
     },
     "output_type": "display_data"
    }
   ],
   "source": [
    "R2 = [R_squaure_a, R_squaure_b, R_squaure_c, R_squaure_d]\n",
    "index = ['model_a', 'model_b', 'model_c', 'model_d']\n",
    "df_R2 = pd.DataFrame({'R2': R2}, index=index)\n",
    "ax = df_R2.plot.bar()"
   ]
  },
  {
   "cell_type": "markdown",
   "id": "063e85d1",
   "metadata": {},
   "source": [
    "## Discussion\n",
    "- There is no significant difference of MSE and RMSE between for models.\n",
    "- R2 of all four models are very small (close to 0) which means models do not perform better than guessing regarding prediction.\n",
    "- R2 in model_b and model_d are even lower than model_a and model_c, which support that gender is least correlated feature regarding rating.\n",
    "- It is notable that R2 in model_c and model_d in case 2 with more training data are even smaller than model_a and model_b in case 1 with less training data.\n",
    "This is partly because more data can better prove that the features (occupation, genre and gender) do not have a good linear correlation with the rating,\n",
    "and model cannot give prediction of rating from these features. "
   ]
  },
  {
   "cell_type": "markdown",
   "id": "432b207b",
   "metadata": {},
   "source": [
    "### Try to do regression with Dummy variables."
   ]
  },
  {
   "cell_type": "code",
   "execution_count": 472,
   "id": "ccf8786a",
   "metadata": {},
   "outputs": [
    {
     "data": {
      "text/html": [
       "<div>\n",
       "<style scoped>\n",
       "    .dataframe tbody tr th:only-of-type {\n",
       "        vertical-align: middle;\n",
       "    }\n",
       "\n",
       "    .dataframe tbody tr th {\n",
       "        vertical-align: top;\n",
       "    }\n",
       "\n",
       "    .dataframe thead th {\n",
       "        text-align: right;\n",
       "    }\n",
       "</style>\n",
       "<table border=\"1\" class=\"dataframe\">\n",
       "  <thead>\n",
       "    <tr style=\"text-align: right;\">\n",
       "      <th></th>\n",
       "      <th>Unnamed: 0</th>\n",
       "      <th>userId</th>\n",
       "      <th>age</th>\n",
       "      <th>gender</th>\n",
       "      <th>occupation</th>\n",
       "      <th>movieId</th>\n",
       "      <th>rating</th>\n",
       "      <th>genre</th>\n",
       "      <th>timestamp</th>\n",
       "      <th>occupation_code</th>\n",
       "      <th>gender_code</th>\n",
       "      <th>genre_code</th>\n",
       "    </tr>\n",
       "  </thead>\n",
       "  <tbody>\n",
       "    <tr>\n",
       "      <th>0</th>\n",
       "      <td>0</td>\n",
       "      <td>196</td>\n",
       "      <td>49.0</td>\n",
       "      <td>M</td>\n",
       "      <td>writer</td>\n",
       "      <td>242</td>\n",
       "      <td>3.0</td>\n",
       "      <td>Comedy</td>\n",
       "      <td>881250949</td>\n",
       "      <td>19.0</td>\n",
       "      <td>1.0</td>\n",
       "      <td>4.0</td>\n",
       "    </tr>\n",
       "    <tr>\n",
       "      <th>1</th>\n",
       "      <td>2</td>\n",
       "      <td>22</td>\n",
       "      <td>25.0</td>\n",
       "      <td>M</td>\n",
       "      <td>writer</td>\n",
       "      <td>377</td>\n",
       "      <td>1.0</td>\n",
       "      <td>Children</td>\n",
       "      <td>878887116</td>\n",
       "      <td>19.0</td>\n",
       "      <td>1.0</td>\n",
       "      <td>3.0</td>\n",
       "    </tr>\n",
       "  </tbody>\n",
       "</table>\n",
       "</div>"
      ],
      "text/plain": [
       "   Unnamed: 0  userId   age gender occupation  movieId  rating     genre  \\\n",
       "0           0     196  49.0      M     writer      242     3.0    Comedy   \n",
       "1           2      22  25.0      M     writer      377     1.0  Children   \n",
       "\n",
       "   timestamp  occupation_code  gender_code  genre_code  \n",
       "0  881250949             19.0          1.0         4.0  \n",
       "1  878887116             19.0          1.0         3.0  "
      ]
     },
     "execution_count": 472,
     "metadata": {},
     "output_type": "execute_result"
    }
   ],
   "source": [
    "df.head(2)"
   ]
  },
  {
   "cell_type": "code",
   "execution_count": 517,
   "id": "9ae69d7e",
   "metadata": {},
   "outputs": [],
   "source": [
    "# to see the trend between two variables with the box plot\n",
    "# sns.boxplot(y='rating', x='occupation_code', data=df)"
   ]
  },
  {
   "cell_type": "code",
   "execution_count": 546,
   "id": "b524b9fc",
   "metadata": {},
   "outputs": [
    {
     "data": {
      "text/plain": [
       "(96854, 1)"
      ]
     },
     "execution_count": 546,
     "metadata": {},
     "output_type": "execute_result"
    }
   ],
   "source": [
    "# add dummy variables to understand some variables.\n",
    "X = df[['gender', 'genre', 'occupation']]\n",
    "X = pd.get_dummies(data=X, drop_first=True)\n",
    "X.shape\n",
    "\n",
    "X_gender = df[['gender']]\n",
    "X_gender = pd.get_dummies(data=X_gender, drop_first=True)\n",
    "X_gender.shape\n",
    "\n",
    "# X_genre = df[['gender', 'genre', 'occupation']]\n",
    "# X_genre = pd.get_dummies(data=X, drop_first=True)\n",
    "# X_genre.shape\n",
    "\n",
    "# X_occu = df[['occupation']]\n",
    "# X_occu = pd.get_dummies(data=X, drop_first=True)\n",
    "# X_occu.shape"
   ]
  },
  {
   "cell_type": "code",
   "execution_count": 547,
   "id": "50f2a726",
   "metadata": {},
   "outputs": [
    {
     "data": {
      "text/html": [
       "<div>\n",
       "<style scoped>\n",
       "    .dataframe tbody tr th:only-of-type {\n",
       "        vertical-align: middle;\n",
       "    }\n",
       "\n",
       "    .dataframe tbody tr th {\n",
       "        vertical-align: top;\n",
       "    }\n",
       "\n",
       "    .dataframe thead th {\n",
       "        text-align: right;\n",
       "    }\n",
       "</style>\n",
       "<table border=\"1\" class=\"dataframe\">\n",
       "  <thead>\n",
       "    <tr style=\"text-align: right;\">\n",
       "      <th></th>\n",
       "      <th>gender_M</th>\n",
       "      <th>genre_Adventure</th>\n",
       "      <th>genre_Animation</th>\n",
       "      <th>genre_Children</th>\n",
       "      <th>genre_Comedy</th>\n",
       "      <th>genre_Crime</th>\n",
       "      <th>genre_Documentary</th>\n",
       "      <th>genre_Drama</th>\n",
       "      <th>genre_Fantasy</th>\n",
       "      <th>genre_Film-Noir</th>\n",
       "      <th>...</th>\n",
       "      <th>occupation_librarian</th>\n",
       "      <th>occupation_marketing</th>\n",
       "      <th>occupation_other</th>\n",
       "      <th>occupation_programmer</th>\n",
       "      <th>occupation_retired</th>\n",
       "      <th>occupation_salesman</th>\n",
       "      <th>occupation_scientist</th>\n",
       "      <th>occupation_student</th>\n",
       "      <th>occupation_technician</th>\n",
       "      <th>occupation_writer</th>\n",
       "    </tr>\n",
       "  </thead>\n",
       "  <tbody>\n",
       "    <tr>\n",
       "      <th>0</th>\n",
       "      <td>1</td>\n",
       "      <td>0</td>\n",
       "      <td>0</td>\n",
       "      <td>0</td>\n",
       "      <td>1</td>\n",
       "      <td>0</td>\n",
       "      <td>0</td>\n",
       "      <td>0</td>\n",
       "      <td>0</td>\n",
       "      <td>0</td>\n",
       "      <td>...</td>\n",
       "      <td>0</td>\n",
       "      <td>0</td>\n",
       "      <td>0</td>\n",
       "      <td>0</td>\n",
       "      <td>0</td>\n",
       "      <td>0</td>\n",
       "      <td>0</td>\n",
       "      <td>0</td>\n",
       "      <td>0</td>\n",
       "      <td>1</td>\n",
       "    </tr>\n",
       "    <tr>\n",
       "      <th>1</th>\n",
       "      <td>1</td>\n",
       "      <td>0</td>\n",
       "      <td>0</td>\n",
       "      <td>1</td>\n",
       "      <td>0</td>\n",
       "      <td>0</td>\n",
       "      <td>0</td>\n",
       "      <td>0</td>\n",
       "      <td>0</td>\n",
       "      <td>0</td>\n",
       "      <td>...</td>\n",
       "      <td>0</td>\n",
       "      <td>0</td>\n",
       "      <td>0</td>\n",
       "      <td>0</td>\n",
       "      <td>0</td>\n",
       "      <td>0</td>\n",
       "      <td>0</td>\n",
       "      <td>0</td>\n",
       "      <td>0</td>\n",
       "      <td>1</td>\n",
       "    </tr>\n",
       "    <tr>\n",
       "      <th>2</th>\n",
       "      <td>1</td>\n",
       "      <td>0</td>\n",
       "      <td>0</td>\n",
       "      <td>0</td>\n",
       "      <td>0</td>\n",
       "      <td>0</td>\n",
       "      <td>0</td>\n",
       "      <td>0</td>\n",
       "      <td>0</td>\n",
       "      <td>0</td>\n",
       "      <td>...</td>\n",
       "      <td>0</td>\n",
       "      <td>0</td>\n",
       "      <td>0</td>\n",
       "      <td>0</td>\n",
       "      <td>0</td>\n",
       "      <td>0</td>\n",
       "      <td>0</td>\n",
       "      <td>0</td>\n",
       "      <td>1</td>\n",
       "      <td>0</td>\n",
       "    </tr>\n",
       "  </tbody>\n",
       "</table>\n",
       "<p>3 rows × 37 columns</p>\n",
       "</div>"
      ],
      "text/plain": [
       "   gender_M  genre_Adventure  genre_Animation  genre_Children  genre_Comedy  \\\n",
       "0         1                0                0               0             1   \n",
       "1         1                0                0               1             0   \n",
       "2         1                0                0               0             0   \n",
       "\n",
       "   genre_Crime  genre_Documentary  genre_Drama  genre_Fantasy  \\\n",
       "0            0                  0            0              0   \n",
       "1            0                  0            0              0   \n",
       "2            0                  0            0              0   \n",
       "\n",
       "   genre_Film-Noir  ...  occupation_librarian  occupation_marketing  \\\n",
       "0                0  ...                     0                     0   \n",
       "1                0  ...                     0                     0   \n",
       "2                0  ...                     0                     0   \n",
       "\n",
       "   occupation_other  occupation_programmer  occupation_retired  \\\n",
       "0                 0                      0                   0   \n",
       "1                 0                      0                   0   \n",
       "2                 0                      0                   0   \n",
       "\n",
       "   occupation_salesman  occupation_scientist  occupation_student  \\\n",
       "0                    0                     0                   0   \n",
       "1                    0                     0                   0   \n",
       "2                    0                     0                   0   \n",
       "\n",
       "   occupation_technician  occupation_writer  \n",
       "0                      0                  1  \n",
       "1                      0                  1  \n",
       "2                      1                  0  \n",
       "\n",
       "[3 rows x 37 columns]"
      ]
     },
     "execution_count": 547,
     "metadata": {},
     "output_type": "execute_result"
    }
   ],
   "source": [
    "X.head(3)"
   ]
  },
  {
   "cell_type": "code",
   "execution_count": 548,
   "id": "5e042617",
   "metadata": {},
   "outputs": [],
   "source": [
    "Y = df['rating']"
   ]
  },
  {
   "cell_type": "code",
   "execution_count": 557,
   "id": "34a93d84",
   "metadata": {},
   "outputs": [
    {
     "name": "stdout",
     "output_type": "stream",
     "text": [
      "(77483, 37) (19371, 37) (77483,) (19371,)\n"
     ]
    }
   ],
   "source": [
    "# creating a train and test dataset\n",
    "X_train, X_test, y_train, y_test = train_test_split(X, y, test_size=0.2, random_state=142)\n",
    "print(X_train.shape, X_test.shape, y_train.shape, y_test.shape)"
   ]
  },
  {
   "cell_type": "code",
   "execution_count": 558,
   "id": "d842d757",
   "metadata": {},
   "outputs": [
    {
     "data": {
      "text/plain": [
       "LinearRegression()"
      ]
     },
     "execution_count": 558,
     "metadata": {},
     "output_type": "execute_result"
    }
   ],
   "source": [
    "model_dum = LinearRegression()\n",
    "model_dum.fit(X_train, y_train)"
   ]
  },
  {
   "cell_type": "code",
   "execution_count": 559,
   "id": "6137bb0e",
   "metadata": {},
   "outputs": [
    {
     "name": "stdout",
     "output_type": "stream",
     "text": [
      "intercept:  3.615863269769743\n"
     ]
    }
   ],
   "source": [
    "print('intercept: ',model_dum.intercept_)"
   ]
  },
  {
   "cell_type": "code",
   "execution_count": 560,
   "id": "8b253f32",
   "metadata": {},
   "outputs": [
    {
     "data": {
      "text/html": [
       "<div>\n",
       "<style scoped>\n",
       "    .dataframe tbody tr th:only-of-type {\n",
       "        vertical-align: middle;\n",
       "    }\n",
       "\n",
       "    .dataframe tbody tr th {\n",
       "        vertical-align: top;\n",
       "    }\n",
       "\n",
       "    .dataframe thead th {\n",
       "        text-align: right;\n",
       "    }\n",
       "</style>\n",
       "<table border=\"1\" class=\"dataframe\">\n",
       "  <thead>\n",
       "    <tr style=\"text-align: right;\">\n",
       "      <th></th>\n",
       "      <th>Coefficient</th>\n",
       "    </tr>\n",
       "  </thead>\n",
       "  <tbody>\n",
       "    <tr>\n",
       "      <th>gender_M</th>\n",
       "      <td>-0.070817</td>\n",
       "    </tr>\n",
       "    <tr>\n",
       "      <th>genre_Adventure</th>\n",
       "      <td>-0.047350</td>\n",
       "    </tr>\n",
       "    <tr>\n",
       "      <th>genre_Animation</th>\n",
       "      <td>-0.033659</td>\n",
       "    </tr>\n",
       "    <tr>\n",
       "      <th>genre_Children</th>\n",
       "      <td>-0.158960</td>\n",
       "    </tr>\n",
       "    <tr>\n",
       "      <th>genre_Comedy</th>\n",
       "      <td>-0.122302</td>\n",
       "    </tr>\n",
       "    <tr>\n",
       "      <th>genre_Crime</th>\n",
       "      <td>0.261381</td>\n",
       "    </tr>\n",
       "    <tr>\n",
       "      <th>genre_Documentary</th>\n",
       "      <td>0.253228</td>\n",
       "    </tr>\n",
       "    <tr>\n",
       "      <th>genre_Drama</th>\n",
       "      <td>0.241467</td>\n",
       "    </tr>\n",
       "    <tr>\n",
       "      <th>genre_Fantasy</th>\n",
       "      <td>0.047124</td>\n",
       "    </tr>\n",
       "    <tr>\n",
       "      <th>genre_Film-Noir</th>\n",
       "      <td>0.354895</td>\n",
       "    </tr>\n",
       "    <tr>\n",
       "      <th>genre_Horror</th>\n",
       "      <td>-0.064928</td>\n",
       "    </tr>\n",
       "    <tr>\n",
       "      <th>genre_Musical</th>\n",
       "      <td>0.100882</td>\n",
       "    </tr>\n",
       "    <tr>\n",
       "      <th>genre_Mystery</th>\n",
       "      <td>0.220956</td>\n",
       "    </tr>\n",
       "    <tr>\n",
       "      <th>genre_Romance</th>\n",
       "      <td>0.146635</td>\n",
       "    </tr>\n",
       "    <tr>\n",
       "      <th>genre_Sci-Fi</th>\n",
       "      <td>0.157214</td>\n",
       "    </tr>\n",
       "    <tr>\n",
       "      <th>genre_Thriller</th>\n",
       "      <td>-0.097466</td>\n",
       "    </tr>\n",
       "    <tr>\n",
       "      <th>genre_War</th>\n",
       "      <td>0.229395</td>\n",
       "    </tr>\n",
       "    <tr>\n",
       "      <th>genre_Western</th>\n",
       "      <td>0.303920</td>\n",
       "    </tr>\n",
       "    <tr>\n",
       "      <th>occupation_artist</th>\n",
       "      <td>0.034816</td>\n",
       "    </tr>\n",
       "    <tr>\n",
       "      <th>occupation_doctor</th>\n",
       "      <td>0.101428</td>\n",
       "    </tr>\n",
       "    <tr>\n",
       "      <th>occupation_educator</th>\n",
       "      <td>0.026230</td>\n",
       "    </tr>\n",
       "    <tr>\n",
       "      <th>occupation_engineer</th>\n",
       "      <td>-0.066422</td>\n",
       "    </tr>\n",
       "    <tr>\n",
       "      <th>occupation_entertainment</th>\n",
       "      <td>-0.136748</td>\n",
       "    </tr>\n",
       "    <tr>\n",
       "      <th>occupation_executive</th>\n",
       "      <td>-0.200058</td>\n",
       "    </tr>\n",
       "    <tr>\n",
       "      <th>occupation_healthcare</th>\n",
       "      <td>-0.675126</td>\n",
       "    </tr>\n",
       "    <tr>\n",
       "      <th>occupation_homemaker</th>\n",
       "      <td>-0.380258</td>\n",
       "    </tr>\n",
       "    <tr>\n",
       "      <th>occupation_lawyer</th>\n",
       "      <td>0.100556</td>\n",
       "    </tr>\n",
       "    <tr>\n",
       "      <th>occupation_librarian</th>\n",
       "      <td>-0.121758</td>\n",
       "    </tr>\n",
       "    <tr>\n",
       "      <th>occupation_marketing</th>\n",
       "      <td>-0.133851</td>\n",
       "    </tr>\n",
       "    <tr>\n",
       "      <th>occupation_other</th>\n",
       "      <td>-0.079049</td>\n",
       "    </tr>\n",
       "    <tr>\n",
       "      <th>occupation_programmer</th>\n",
       "      <td>-0.035139</td>\n",
       "    </tr>\n",
       "    <tr>\n",
       "      <th>occupation_retired</th>\n",
       "      <td>-0.145821</td>\n",
       "    </tr>\n",
       "    <tr>\n",
       "      <th>occupation_salesman</th>\n",
       "      <td>-0.047925</td>\n",
       "    </tr>\n",
       "    <tr>\n",
       "      <th>occupation_scientist</th>\n",
       "      <td>-0.037263</td>\n",
       "    </tr>\n",
       "    <tr>\n",
       "      <th>occupation_student</th>\n",
       "      <td>-0.098686</td>\n",
       "    </tr>\n",
       "    <tr>\n",
       "      <th>occupation_technician</th>\n",
       "      <td>-0.085356</td>\n",
       "    </tr>\n",
       "    <tr>\n",
       "      <th>occupation_writer</th>\n",
       "      <td>-0.251218</td>\n",
       "    </tr>\n",
       "  </tbody>\n",
       "</table>\n",
       "</div>"
      ],
      "text/plain": [
       "                          Coefficient\n",
       "gender_M                    -0.070817\n",
       "genre_Adventure             -0.047350\n",
       "genre_Animation             -0.033659\n",
       "genre_Children              -0.158960\n",
       "genre_Comedy                -0.122302\n",
       "genre_Crime                  0.261381\n",
       "genre_Documentary            0.253228\n",
       "genre_Drama                  0.241467\n",
       "genre_Fantasy                0.047124\n",
       "genre_Film-Noir              0.354895\n",
       "genre_Horror                -0.064928\n",
       "genre_Musical                0.100882\n",
       "genre_Mystery                0.220956\n",
       "genre_Romance                0.146635\n",
       "genre_Sci-Fi                 0.157214\n",
       "genre_Thriller              -0.097466\n",
       "genre_War                    0.229395\n",
       "genre_Western                0.303920\n",
       "occupation_artist            0.034816\n",
       "occupation_doctor            0.101428\n",
       "occupation_educator          0.026230\n",
       "occupation_engineer         -0.066422\n",
       "occupation_entertainment    -0.136748\n",
       "occupation_executive        -0.200058\n",
       "occupation_healthcare       -0.675126\n",
       "occupation_homemaker        -0.380258\n",
       "occupation_lawyer            0.100556\n",
       "occupation_librarian        -0.121758\n",
       "occupation_marketing        -0.133851\n",
       "occupation_other            -0.079049\n",
       "occupation_programmer       -0.035139\n",
       "occupation_retired          -0.145821\n",
       "occupation_salesman         -0.047925\n",
       "occupation_scientist        -0.037263\n",
       "occupation_student          -0.098686\n",
       "occupation_technician       -0.085356\n",
       "occupation_writer           -0.251218"
      ]
     },
     "execution_count": 560,
     "metadata": {},
     "output_type": "execute_result"
    }
   ],
   "source": [
    "coeff_param = pd.DataFrame(model_dum.coef_, X.columns, columns=['Coefficient'])\n",
    "coeff_param"
   ]
  },
  {
   "cell_type": "code",
   "execution_count": 561,
   "id": "29a55cac",
   "metadata": {},
   "outputs": [
    {
     "data": {
      "text/plain": [
       "array([3.68782616, 3.62321127, 3.83265724, ..., 3.47380943, 3.33738851,\n",
       "       3.38164853])"
      ]
     },
     "execution_count": 561,
     "metadata": {},
     "output_type": "execute_result"
    }
   ],
   "source": [
    "predictions = model_dum.predict(X_test)\n",
    "predictions"
   ]
  },
  {
   "cell_type": "code",
   "execution_count": 562,
   "id": "0ce12ba0",
   "metadata": {},
   "outputs": [
    {
     "name": "stderr",
     "output_type": "stream",
     "text": [
      "C:\\Users\\pxpxz_ct9p1p3\\anaconda3\\lib\\site-packages\\seaborn\\_decorators.py:36: FutureWarning: Pass the following variables as keyword args: x, y. From version 0.12, the only valid positional argument will be `data`, and passing other arguments without an explicit keyword will result in an error or misinterpretation.\n",
      "  warnings.warn(\n"
     ]
    },
    {
     "data": {
      "text/plain": [
       "<AxesSubplot:xlabel='rating'>"
      ]
     },
     "execution_count": 562,
     "metadata": {},
     "output_type": "execute_result"
    },
    {
     "data": {
      "image/png": "[encoded data removed]",
      "text/plain": [
       "<Figure size 432x288 with 1 Axes>"
      ]
     },
     "metadata": {
      "needs_background": "light"
     },
     "output_type": "display_data"
    }
   ],
   "source": [
    "sns.regplot(y_test, predictions)"
   ]
  },
  {
   "cell_type": "markdown",
   "id": "9904bfe6",
   "metadata": {},
   "source": [
    "### Summary\n",
    "In this task,\n",
    "- numerical variables, eg 'age' does not have a good linear correlation with rating. \n",
    "- we tried two methods to explore some categorical variables, both proved that three categorical variables, including 'gender', 'genre' and 'occupation' do not have significent correlation with rating.\n",
    "- from above analysis, we can conclude that all models are unable to predict 'rating' from user's age, gender, genre and/or occupation. "
   ]
  },
  {
   "cell_type": "code",
   "execution_count": null,
   "id": "e9a324ed",
   "metadata": {},
   "outputs": [],
   "source": []
  }
 ],
 "metadata": {
  "kernelspec": {
   "display_name": "Python 3 (ipykernel)",
   "language": "python",
   "name": "python3"
  },
  "language_info": {
   "codemirror_mode": {
    "name": "ipython",
    "version": 3
   },
   "file_extension": ".py",
   "mimetype": "text/x-python",
   "name": "python",
   "nbconvert_exporter": "python",
   "pygments_lexer": "ipython3",
   "version": "3.9.7"
  }
 },
 "nbformat": 4,
 "nbformat_minor": 5
}
