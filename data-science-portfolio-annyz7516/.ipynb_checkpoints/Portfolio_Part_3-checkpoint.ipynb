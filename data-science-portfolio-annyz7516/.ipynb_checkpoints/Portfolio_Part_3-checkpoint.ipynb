{
 "cells": [
  {
   "cell_type": "markdown",
   "id": "e4aef348",
   "metadata": {},
   "source": [
    "## Portfolio Part 3"
   ]
  },
  {
   "cell_type": "markdown",
   "id": "0619c315",
   "metadata": {},
   "source": [
    "In this Portfolio task you will continue working with the movielens data collected by the GroupLens Research Project at the University of Minnesota. The columns in the dataset are a little bit different from the ones provided in the previous Portfolio tasks, where the 'rating' column is replaced by the 'feedback' column. There are two values regarding the 'feedback' with 1 indicating the user likes the corresponding movie; otherwise 0. \n",
    "\n",
    "The header of the csv file is shown below. \n",
    "\n",
    "| userId | age | gender | occupation| movieId | feedback | genre | timestamp |\n",
    "    | ---- | ---- | ---- | ---- | ---- | ---- | ---- | ---- | \n",
    "    \n",
    "#### Description of Fields\n",
    "\n",
    "* __userId__ - the user's id\n",
    "* __age__ - the user's age\n",
    "* __gender__ - the user's gender\n",
    "* __occupation__ - the user's occupation\n",
    "* __movieId__ - the movie's id\n",
    "* __feedback__ - the user's feedback towards the movie (1 means 'like'; 0 means 'dislike')\n",
    "* __genre__ - the genre of the movie\n",
    "* __timestamp__ - the timestamp indicating when the user rated the movie\n",
    "\n",
    "Note that, a same user (i.e., a same userId) corresponds to a same age/gender/occupation; a same movie (i.e., a same movieId) corresponds to a same genre; a same user (i.e., a same userId) may like multiple movies and a same movie (i.e., a same movieId) may be preferred by multiple users.\n",
    "\n",
    "\n",
    "Your high level goal in this notebook is to try to build and evaluate predictive models for feedback from available features - predict the value of the __feedback__ field in the data from some of the other fields. Explore the data, build a model using a selection of features and then do some work on finding out which features provide the most accurate results.\n",
    "\n",
    "Note: you are not being evaluated on the ___accuracy___ of the model but on the ___process___ that you use to generate it. Please use a ___simple Logistic Regression model___ and ___one of the more advanced methods___ covered in recent weeks. Accordingly, discuss the performance of the simple and advanced methods."
   ]
  },
  {
   "cell_type": "code",
   "execution_count": 1,
   "id": "47be0d08",
   "metadata": {},
   "outputs": [],
   "source": [
    "import pandas as pd\n",
    "import numpy as np\n",
    "import matplotlib.pyplot as plt\n",
    "import seaborn as sns\n",
    "%matplotlib inline\n",
    "\n",
    "import warnings\n",
    "warnings.filterwarnings('ignore')"
   ]
  },
  {
   "cell_type": "code",
   "execution_count": 2,
   "id": "84c57251",
   "metadata": {
    "scrolled": true
   },
   "outputs": [
    {
     "data": {
      "text/html": [
       "<div>\n",
       "<style scoped>\n",
       "    .dataframe tbody tr th:only-of-type {\n",
       "        vertical-align: middle;\n",
       "    }\n",
       "\n",
       "    .dataframe tbody tr th {\n",
       "        vertical-align: top;\n",
       "    }\n",
       "\n",
       "    .dataframe thead th {\n",
       "        text-align: right;\n",
       "    }\n",
       "</style>\n",
       "<table border=\"1\" class=\"dataframe\">\n",
       "  <thead>\n",
       "    <tr style=\"text-align: right;\">\n",
       "      <th></th>\n",
       "      <th>userId</th>\n",
       "      <th>age</th>\n",
       "      <th>gender</th>\n",
       "      <th>occupation</th>\n",
       "      <th>movieId</th>\n",
       "      <th>feedback</th>\n",
       "      <th>genre</th>\n",
       "      <th>timestamp</th>\n",
       "    </tr>\n",
       "  </thead>\n",
       "  <tbody>\n",
       "    <tr>\n",
       "      <th>0</th>\n",
       "      <td>196</td>\n",
       "      <td>49</td>\n",
       "      <td>M</td>\n",
       "      <td>writer</td>\n",
       "      <td>242</td>\n",
       "      <td>0</td>\n",
       "      <td>Comedy</td>\n",
       "      <td>881250949</td>\n",
       "    </tr>\n",
       "    <tr>\n",
       "      <th>1</th>\n",
       "      <td>186</td>\n",
       "      <td>39</td>\n",
       "      <td>F</td>\n",
       "      <td>executive</td>\n",
       "      <td>302</td>\n",
       "      <td>0</td>\n",
       "      <td>Crime</td>\n",
       "      <td>891717742</td>\n",
       "    </tr>\n",
       "    <tr>\n",
       "      <th>2</th>\n",
       "      <td>22</td>\n",
       "      <td>25</td>\n",
       "      <td>M</td>\n",
       "      <td>writer</td>\n",
       "      <td>377</td>\n",
       "      <td>0</td>\n",
       "      <td>Children</td>\n",
       "      <td>878887116</td>\n",
       "    </tr>\n",
       "    <tr>\n",
       "      <th>3</th>\n",
       "      <td>244</td>\n",
       "      <td>28</td>\n",
       "      <td>M</td>\n",
       "      <td>technician</td>\n",
       "      <td>51</td>\n",
       "      <td>0</td>\n",
       "      <td>Romance</td>\n",
       "      <td>880606923</td>\n",
       "    </tr>\n",
       "    <tr>\n",
       "      <th>4</th>\n",
       "      <td>166</td>\n",
       "      <td>47</td>\n",
       "      <td>M</td>\n",
       "      <td>educator</td>\n",
       "      <td>346</td>\n",
       "      <td>0</td>\n",
       "      <td>Drama</td>\n",
       "      <td>886397596</td>\n",
       "    </tr>\n",
       "  </tbody>\n",
       "</table>\n",
       "</div>"
      ],
      "text/plain": [
       "   userId  age gender  occupation  movieId  feedback     genre  timestamp\n",
       "0     196   49      M      writer      242         0    Comedy  881250949\n",
       "1     186   39      F   executive      302         0     Crime  891717742\n",
       "2      22   25      M      writer      377         0  Children  878887116\n",
       "3     244   28      M  technician       51         0   Romance  880606923\n",
       "4     166   47      M    educator      346         0     Drama  886397596"
      ]
     },
     "execution_count": 2,
     "metadata": {},
     "output_type": "execute_result"
    }
   ],
   "source": [
    "df = pd.read_csv('files/movielens_data_feedback.csv')\n",
    "df.head()"
   ]
  },
  {
   "cell_type": "code",
   "execution_count": 3,
   "id": "f14043d9",
   "metadata": {},
   "outputs": [
    {
     "data": {
      "text/html": [
       "<div>\n",
       "<style scoped>\n",
       "    .dataframe tbody tr th:only-of-type {\n",
       "        vertical-align: middle;\n",
       "    }\n",
       "\n",
       "    .dataframe tbody tr th {\n",
       "        vertical-align: top;\n",
       "    }\n",
       "\n",
       "    .dataframe thead th {\n",
       "        text-align: right;\n",
       "    }\n",
       "</style>\n",
       "<table border=\"1\" class=\"dataframe\">\n",
       "  <thead>\n",
       "    <tr style=\"text-align: right;\">\n",
       "      <th></th>\n",
       "      <th>gender</th>\n",
       "      <th>occupation</th>\n",
       "      <th>genre</th>\n",
       "    </tr>\n",
       "  </thead>\n",
       "  <tbody>\n",
       "    <tr>\n",
       "      <th>0</th>\n",
       "      <td>M</td>\n",
       "      <td>writer</td>\n",
       "      <td>Comedy</td>\n",
       "    </tr>\n",
       "    <tr>\n",
       "      <th>1</th>\n",
       "      <td>F</td>\n",
       "      <td>executive</td>\n",
       "      <td>Crime</td>\n",
       "    </tr>\n",
       "    <tr>\n",
       "      <th>2</th>\n",
       "      <td>M</td>\n",
       "      <td>writer</td>\n",
       "      <td>Children</td>\n",
       "    </tr>\n",
       "    <tr>\n",
       "      <th>3</th>\n",
       "      <td>M</td>\n",
       "      <td>technician</td>\n",
       "      <td>Romance</td>\n",
       "    </tr>\n",
       "    <tr>\n",
       "      <th>4</th>\n",
       "      <td>M</td>\n",
       "      <td>educator</td>\n",
       "      <td>Drama</td>\n",
       "    </tr>\n",
       "  </tbody>\n",
       "</table>\n",
       "</div>"
      ],
      "text/plain": [
       "  gender  occupation     genre\n",
       "0      M      writer    Comedy\n",
       "1      F   executive     Crime\n",
       "2      M      writer  Children\n",
       "3      M  technician   Romance\n",
       "4      M    educator     Drama"
      ]
     },
     "execution_count": 3,
     "metadata": {},
     "output_type": "execute_result"
    }
   ],
   "source": [
    "# Find out the catergorical features in the data\n",
    "obj_df = df.select_dtypes(include=['object']).copy()\n",
    "obj_df.head()"
   ]
  },
  {
   "cell_type": "code",
   "execution_count": 4,
   "id": "ab83c38e",
   "metadata": {},
   "outputs": [
    {
     "data": {
      "text/plain": [
       "feedback\n",
       "0    44625\n",
       "1    55375\n",
       "dtype: int64"
      ]
     },
     "execution_count": 4,
     "metadata": {},
     "output_type": "execute_result"
    }
   ],
   "source": [
    "df.groupby('feedback').size()"
   ]
  },
  {
   "cell_type": "code",
   "execution_count": 5,
   "id": "dbbc8a5f",
   "metadata": {},
   "outputs": [
    {
     "data": {
      "text/plain": [
       "<AxesSubplot:xlabel='feedback', ylabel='count'>"
      ]
     },
     "execution_count": 5,
     "metadata": {},
     "output_type": "execute_result"
    },
    {
     "data": {
      "image/png": "[encoded data removed]",
      "text/plain": [
       "<Figure size 432x288 with 1 Axes>"
      ]
     },
     "metadata": {
      "needs_background": "light"
     },
     "output_type": "display_data"
    }
   ],
   "source": [
    "# Visualising countplot\n",
    "sns.countplot(df['feedback'], label=\"Count\")"
   ]
  },
  {
   "cell_type": "code",
   "execution_count": 6,
   "id": "933ed78c",
   "metadata": {},
   "outputs": [
    {
     "data": {
      "text/html": [
       "<div>\n",
       "<style scoped>\n",
       "    .dataframe tbody tr th:only-of-type {\n",
       "        vertical-align: middle;\n",
       "    }\n",
       "\n",
       "    .dataframe tbody tr th {\n",
       "        vertical-align: top;\n",
       "    }\n",
       "\n",
       "    .dataframe thead th {\n",
       "        text-align: right;\n",
       "    }\n",
       "</style>\n",
       "<table border=\"1\" class=\"dataframe\">\n",
       "  <thead>\n",
       "    <tr style=\"text-align: right;\">\n",
       "      <th></th>\n",
       "      <th>genre</th>\n",
       "      <th>genre_code</th>\n",
       "      <th>occupation</th>\n",
       "      <th>occupation_code</th>\n",
       "      <th>gender</th>\n",
       "      <th>gender_code</th>\n",
       "    </tr>\n",
       "  </thead>\n",
       "  <tbody>\n",
       "    <tr>\n",
       "      <th>0</th>\n",
       "      <td>Comedy</td>\n",
       "      <td>4</td>\n",
       "      <td>writer</td>\n",
       "      <td>20</td>\n",
       "      <td>M</td>\n",
       "      <td>1</td>\n",
       "    </tr>\n",
       "    <tr>\n",
       "      <th>1</th>\n",
       "      <td>Crime</td>\n",
       "      <td>5</td>\n",
       "      <td>executive</td>\n",
       "      <td>6</td>\n",
       "      <td>F</td>\n",
       "      <td>0</td>\n",
       "    </tr>\n",
       "  </tbody>\n",
       "</table>\n",
       "</div>"
      ],
      "text/plain": [
       "    genre  genre_code occupation  occupation_code gender  gender_code\n",
       "0  Comedy           4     writer               20      M            1\n",
       "1   Crime           5  executive                6      F            0"
      ]
     },
     "execution_count": 6,
     "metadata": {},
     "output_type": "execute_result"
    }
   ],
   "source": [
    "# Convert the categorical features (i.e., gender, genre and occupation) into numerical values\n",
    "from sklearn.preprocessing import OrdinalEncoder\n",
    "\n",
    "# convert categorical values into numerial values, e.g., genre -> genre_code\n",
    "ord_enc = OrdinalEncoder(dtype=int)\n",
    "df[[\"genre_code\", \"gender_code\", \"occupation_code\"]] = ord_enc.fit_transform(df[[\"genre\", \"gender\", \"occupation\"]])\n",
    "df[[\"genre\", \"genre_code\", \"occupation\", \"occupation_code\", \"gender\", \"gender_code\"]].head(2)"
   ]
  },
  {
   "cell_type": "code",
   "execution_count": 7,
   "id": "7349ef8a",
   "metadata": {},
   "outputs": [
    {
     "data": {
      "text/html": [
       "<div>\n",
       "<style scoped>\n",
       "    .dataframe tbody tr th:only-of-type {\n",
       "        vertical-align: middle;\n",
       "    }\n",
       "\n",
       "    .dataframe tbody tr th {\n",
       "        vertical-align: top;\n",
       "    }\n",
       "\n",
       "    .dataframe thead th {\n",
       "        text-align: right;\n",
       "    }\n",
       "</style>\n",
       "<table border=\"1\" class=\"dataframe\">\n",
       "  <thead>\n",
       "    <tr style=\"text-align: right;\">\n",
       "      <th></th>\n",
       "      <th>userId</th>\n",
       "      <th>age</th>\n",
       "      <th>gender</th>\n",
       "      <th>occupation</th>\n",
       "      <th>movieId</th>\n",
       "      <th>feedback</th>\n",
       "      <th>genre</th>\n",
       "      <th>timestamp</th>\n",
       "      <th>genre_code</th>\n",
       "      <th>gender_code</th>\n",
       "      <th>occupation_code</th>\n",
       "    </tr>\n",
       "  </thead>\n",
       "  <tbody>\n",
       "    <tr>\n",
       "      <th>0</th>\n",
       "      <td>196</td>\n",
       "      <td>49</td>\n",
       "      <td>M</td>\n",
       "      <td>writer</td>\n",
       "      <td>242</td>\n",
       "      <td>0</td>\n",
       "      <td>Comedy</td>\n",
       "      <td>881250949</td>\n",
       "      <td>4</td>\n",
       "      <td>1</td>\n",
       "      <td>20</td>\n",
       "    </tr>\n",
       "    <tr>\n",
       "      <th>1</th>\n",
       "      <td>186</td>\n",
       "      <td>39</td>\n",
       "      <td>F</td>\n",
       "      <td>executive</td>\n",
       "      <td>302</td>\n",
       "      <td>0</td>\n",
       "      <td>Crime</td>\n",
       "      <td>891717742</td>\n",
       "      <td>5</td>\n",
       "      <td>0</td>\n",
       "      <td>6</td>\n",
       "    </tr>\n",
       "  </tbody>\n",
       "</table>\n",
       "</div>"
      ],
      "text/plain": [
       "   userId  age gender occupation  movieId  feedback   genre  timestamp  \\\n",
       "0     196   49      M     writer      242         0  Comedy  881250949   \n",
       "1     186   39      F  executive      302         0   Crime  891717742   \n",
       "\n",
       "   genre_code  gender_code  occupation_code  \n",
       "0           4            1               20  \n",
       "1           5            0                6  "
      ]
     },
     "execution_count": 7,
     "metadata": {},
     "output_type": "execute_result"
    }
   ],
   "source": [
    "df.head(2)"
   ]
  },
  {
   "cell_type": "code",
   "execution_count": 8,
   "id": "e990e4c2",
   "metadata": {},
   "outputs": [
    {
     "data": {
      "text/html": [
       "<div>\n",
       "<style scoped>\n",
       "    .dataframe tbody tr th:only-of-type {\n",
       "        vertical-align: middle;\n",
       "    }\n",
       "\n",
       "    .dataframe tbody tr th {\n",
       "        vertical-align: top;\n",
       "    }\n",
       "\n",
       "    .dataframe thead th {\n",
       "        text-align: right;\n",
       "    }\n",
       "</style>\n",
       "<table border=\"1\" class=\"dataframe\">\n",
       "  <thead>\n",
       "    <tr style=\"text-align: right;\">\n",
       "      <th></th>\n",
       "      <th>userId</th>\n",
       "      <th>age</th>\n",
       "      <th>movieId</th>\n",
       "      <th>feedback</th>\n",
       "      <th>timestamp</th>\n",
       "      <th>genre_code</th>\n",
       "      <th>gender_code</th>\n",
       "      <th>occupation_code</th>\n",
       "    </tr>\n",
       "  </thead>\n",
       "  <tbody>\n",
       "    <tr>\n",
       "      <th>0</th>\n",
       "      <td>196</td>\n",
       "      <td>49</td>\n",
       "      <td>242</td>\n",
       "      <td>0</td>\n",
       "      <td>881250949</td>\n",
       "      <td>4</td>\n",
       "      <td>1</td>\n",
       "      <td>20</td>\n",
       "    </tr>\n",
       "    <tr>\n",
       "      <th>1</th>\n",
       "      <td>186</td>\n",
       "      <td>39</td>\n",
       "      <td>302</td>\n",
       "      <td>0</td>\n",
       "      <td>891717742</td>\n",
       "      <td>5</td>\n",
       "      <td>0</td>\n",
       "      <td>6</td>\n",
       "    </tr>\n",
       "  </tbody>\n",
       "</table>\n",
       "</div>"
      ],
      "text/plain": [
       "   userId  age  movieId  feedback  timestamp  genre_code  gender_code  \\\n",
       "0     196   49      242         0  881250949           4            1   \n",
       "1     186   39      302         0  891717742           5            0   \n",
       "\n",
       "   occupation_code  \n",
       "0               20  \n",
       "1                6  "
      ]
     },
     "execution_count": 8,
     "metadata": {},
     "output_type": "execute_result"
    }
   ],
   "source": [
    "df2=df.drop(columns=['gender', 'genre', 'occupation'])\n",
    "df2.head(2)"
   ]
  },
  {
   "cell_type": "code",
   "execution_count": 9,
   "id": "5c86ec1a",
   "metadata": {},
   "outputs": [
    {
     "name": "stdout",
     "output_type": "stream",
     "text": [
      "X_train_1 shape:  (75000, 7)\n",
      "y_train_1 shape:  (75000,)\n",
      "X_test_1 shape:  (25000, 7)\n",
      "y_test_1 shape:  (25000,)\n"
     ]
    }
   ],
   "source": [
    "# Dividing data into training and testing\n",
    "from sklearn.model_selection import train_test_split\n",
    "X_train_1, X_test_1, y_train_1, y_test_1 = train_test_split(df2.drop(['feedback'], axis=1), df2['feedback'], stratify=df['feedback'], random_state=7)\n",
    "\n",
    "# checking shapes of each\n",
    "print(\"X_train_1 shape: \", X_train_1.shape)\n",
    "print(\"y_train_1 shape: \", y_train_1.shape)\n",
    "print(\"X_test_1 shape: \", X_test_1.shape)\n",
    "print(\"y_test_1 shape: \", y_test_1.shape)"
   ]
  },
  {
   "cell_type": "markdown",
   "id": "3b88a290",
   "metadata": {},
   "source": [
    "### Applying Logistic Regression model"
   ]
  },
  {
   "cell_type": "code",
   "execution_count": 10,
   "id": "1b63f109",
   "metadata": {},
   "outputs": [],
   "source": [
    "from sklearn.linear_model import LogisticRegression\n",
    "\n",
    "# training model\n",
    "lr_1 = LogisticRegression().fit(X_train_1, y_train_1)\n"
   ]
  },
  {
   "cell_type": "code",
   "execution_count": 11,
   "id": "62c005c9",
   "metadata": {},
   "outputs": [
    {
     "name": "stdout",
     "output_type": "stream",
     "text": [
      "Acc on training set1:  0.5537466666666667\n",
      "Acc on test set1:  0.55376\n"
     ]
    }
   ],
   "source": [
    "# Evaluating trained model on training and test set\n",
    "from sklearn.metrics import accuracy_score\n",
    "\n",
    "# making predictions on training and test set\n",
    "y_pred_train_1 = lr_1.predict(X_train_1)\n",
    "y_pred_test_1 = lr_1.predict(X_test_1)\n",
    "\n",
    "# calculating accuracy score on training set\n",
    "print(\"Acc on training set1: \", accuracy_score(y_train_1, y_pred_train_1))\n",
    "\n",
    "# calculating accuracy score on test set\n",
    "print(\"Acc on test set1: \", accuracy_score(y_test_1, y_pred_test_1))"
   ]
  },
  {
   "cell_type": "markdown",
   "id": "12fe3de1",
   "metadata": {},
   "source": [
    "### Finding important features for the predictive model\n",
    "Feature importance rates how important each feature is for the model to make predictions."
   ]
  },
  {
   "cell_type": "code",
   "execution_count": 12,
   "id": "29b8cacb",
   "metadata": {},
   "outputs": [
    {
     "name": "stdout",
     "output_type": "stream",
     "text": [
      "No. of features:  2\n",
      "Selected features:  [False False  True  True False False False]\n",
      "Features ranking:  [2 3 1 1 4 6 5]\n"
     ]
    }
   ],
   "source": [
    "from sklearn.feature_selection import RFE\n",
    "rfe = RFE(lr_1, 2)                                                                                                    \n",
    "rfe_model = rfe.fit(X_train_1, y_train_1)\n",
    "print(\"No. of features: \", rfe_model.n_features_)\n",
    "print(\"Selected features: \", rfe_model.support_)\n",
    "print(\"Features ranking: \", rfe_model.ranking_)"
   ]
  },
  {
   "cell_type": "markdown",
   "id": "2ca7b411",
   "metadata": {},
   "source": [
    "#### Discuss:\n",
    "- As can be seen from RFE, 'movieId' and 'timestamp' are two features that most relavent to 'feedback'\n",
    "- Train models with only one of these two features, respectively, as followed."
   ]
  },
  {
   "cell_type": "code",
   "execution_count": 13,
   "id": "5b8bf0c5",
   "metadata": {},
   "outputs": [
    {
     "name": "stdout",
     "output_type": "stream",
     "text": [
      "Acc on training set2:  0.5888666666666666\n",
      "Acc on test set2:  0.58984\n"
     ]
    }
   ],
   "source": [
    "# model with one feature-\"movieId\"\n",
    "# Dividing data into training and testing\n",
    "X_train_2, X_test_2, y_train_2, y_test_2 = train_test_split(df2.drop(['feedback', 'userId','age', 'timestamp',  'genre_code', 'gender_code', 'occupation_code'], axis=1), df2['feedback'], stratify=df['feedback'], random_state=7)\n",
    "\n",
    "# training model\n",
    "lr_2 = LogisticRegression().fit(X_train_2, y_train_2)\n",
    "\n",
    "# making predictions on training and test set\n",
    "y_pred_train_2 = lr_2.predict(X_train_2)\n",
    "y_pred_test_2 = lr_2.predict(X_test_2)\n",
    "\n",
    "# calculating accuracy score on training set\n",
    "print(\"Acc on training set2: \", accuracy_score(y_train_2, y_pred_train_2))\n",
    "\n",
    "# calculating accuracy score on test set\n",
    "print(\"Acc on test set2: \", accuracy_score(y_test_2, y_pred_test_2))\n"
   ]
  },
  {
   "cell_type": "code",
   "execution_count": 14,
   "id": "18c5fe62",
   "metadata": {},
   "outputs": [
    {
     "name": "stdout",
     "output_type": "stream",
     "text": [
      "Acc on training set3:  0.5537466666666667\n",
      "Acc on test set3:  0.55376\n"
     ]
    }
   ],
   "source": [
    "# model with one feature-\"timestamp\"\n",
    "# Dividing data into training and testing\n",
    "X_train_3, X_test_3, y_train_3, y_test_3 = train_test_split(df2.drop(['feedback', 'userId','age', 'movieId',  'genre_code', 'gender_code', 'occupation_code'], axis=1), df2['feedback'], stratify=df['feedback'], random_state=7)\n",
    "\n",
    "# training model\n",
    "lr_3 = LogisticRegression().fit(X_train_3, y_train_3)\n",
    "\n",
    "# making predictions on training and test set\n",
    "y_pred_train_3 = lr_3.predict(X_train_3)\n",
    "y_pred_test_3 = lr_3.predict(X_test_3)\n",
    "\n",
    "# calculating accuracy score on training set\n",
    "print(\"Acc on training set3: \", accuracy_score(y_train_3, y_pred_train_3))\n",
    "\n",
    "# calculating accuracy score on test set\n",
    "print(\"Acc on test set3: \", accuracy_score(y_test_3, y_pred_test_3))"
   ]
  },
  {
   "cell_type": "markdown",
   "id": "ed4cdf83",
   "metadata": {},
   "source": [
    "#### Disscuss\n",
    "Though model with only one feature 'movieId' got a bit higher accuracy score, both the training set and test set score are still very low, 0.5889 and 0.5898, respectively. "
   ]
  },
  {
   "cell_type": "markdown",
   "id": "34884a13",
   "metadata": {},
   "source": [
    "### Fine-tuning LR model by changing C values"
   ]
  },
  {
   "cell_type": "code",
   "execution_count": 15,
   "id": "dfe295d2",
   "metadata": {},
   "outputs": [],
   "source": [
    "# training model\n",
    "lr_1 = LogisticRegression(C=1).fit(X_train_1, y_train_1)"
   ]
  },
  {
   "cell_type": "code",
   "execution_count": 16,
   "id": "bb7aaeb3",
   "metadata": {},
   "outputs": [
    {
     "name": "stdout",
     "output_type": "stream",
     "text": [
      "Acc on training set:  0.5537466666666667\n",
      "Acc on test set:  0.55376\n"
     ]
    }
   ],
   "source": [
    "# making predictions on training and test set\n",
    "y_pred_train_1 = lr_1.predict(X_train_1)\n",
    "y_pred_test_1 = lr_1.predict(X_test_1)\n",
    "\n",
    "# calculating accuracy score on training set\n",
    "print(\"Acc on training set: \", accuracy_score(y_train_1, y_pred_train_1))\n",
    "\n",
    "# calculating accuracy score on test set\n",
    "print(\"Acc on test set: \", accuracy_score(y_test_1, y_pred_test_1))"
   ]
  },
  {
   "cell_type": "markdown",
   "id": "c78004d1",
   "metadata": {},
   "source": [
    "#### Discuss\n",
    "There is no improvement by fine-tuning with changing C to 0.1."
   ]
  },
  {
   "cell_type": "markdown",
   "id": "69d77b96",
   "metadata": {},
   "source": [
    "### Analysis\n",
    "- Accuracy score is close to 0.5. Feedback can not be well predicted from any feature(s) of the dataset in logistic regression models. \n",
    "- Feedback has a closer relationship with individual movie regardless of its genre."
   ]
  },
  {
   "cell_type": "markdown",
   "id": "6f6ab689",
   "metadata": {},
   "source": [
    "### K-Nearest Neighbors Classifier and Model Selection"
   ]
  },
  {
   "cell_type": "code",
   "execution_count": 17,
   "id": "111eb7e1",
   "metadata": {},
   "outputs": [],
   "source": [
    "from sklearn.datasets import make_classification\n",
    "from sklearn.neighbors import KNeighborsClassifier\n",
    "from sklearn.metrics import accuracy_score\n",
    "\n",
    "from sklearn.model_selection import cross_val_score\n",
    "from sklearn.model_selection import GridSearchCV"
   ]
  },
  {
   "cell_type": "code",
   "execution_count": 24,
   "id": "a4b38ae1",
   "metadata": {},
   "outputs": [
    {
     "name": "stdout",
     "output_type": "stream",
     "text": [
      "Column: 0, Selected False, Rank: 2.000\n",
      "Column: 1, Selected False, Rank: 3.000\n",
      "Column: 2, Selected True, Rank: 1.000\n",
      "Column: 3, Selected True, Rank: 1.000\n",
      "Column: 4, Selected False, Rank: 4.000\n",
      "Column: 5, Selected False, Rank: 6.000\n",
      "Column: 6, Selected False, Rank: 5.000\n"
     ]
    }
   ],
   "source": [
    "# summarize all features\n",
    "for i in range(X_train_1.shape[1]):\n",
    "    print('Column: %d, Selected %s, Rank: %.3f' % (i, rfe.support_[i], rfe.ranking_[i]))"
   ]
  },
  {
   "cell_type": "markdown",
   "id": "f0b53292",
   "metadata": {},
   "source": [
    "#### Discuss: \n",
    "'movieId' and 'timestamp' are ranked as two highest features, which is consistant with LR models."
   ]
  },
  {
   "cell_type": "code",
   "execution_count": 35,
   "id": "e0e0345c",
   "metadata": {},
   "outputs": [
    {
     "data": {
      "image/png": "[encoded data removed]",
      "text/plain": [
       "<Figure size 432x288 with 1 Axes>"
      ]
     },
     "metadata": {
      "needs_background": "light"
     },
     "output_type": "display_data"
    }
   ],
   "source": [
    "# Generate a synthetica 2D dataset\n",
    "X, y = make_classification(n_samples=50, n_features=2, n_informative=2,\n",
    "                           n_redundant=0, n_classes=2, n_clusters_per_class=1, \n",
    "                           weights=None, flip_y=0.01, class_sep=0.5, hypercube=True,\n",
    "                           shift=0.0, scale=1.0, shuffle=True, random_state=None)\n",
    "\n",
    "# Data split\n",
    "X_train, X_test, y_train, y_test = train_test_split(X, y, test_size=0.2, random_state=42)\n",
    "\n",
    "\n",
    "# Visualize the generated data\n",
    "colors = ['blue', 'yellow']\n",
    "for i, color in enumerate(colors):\n",
    "    plt.scatter(X_train[y_train == i, 0], X_train[y_train == i, 1], c=color)\n",
    "plt.scatter(X_test[:, 0], X_test[:,1], c='red', marker='x', label='Testing Data')\n",
    "plt.legend(loc='best')\n",
    "plt.show()"
   ]
  },
  {
   "cell_type": "code",
   "execution_count": 36,
   "id": "aeb00ee0",
   "metadata": {},
   "outputs": [
    {
     "name": "stdout",
     "output_type": "stream",
     "text": [
      "Training accuracy is:  0.775\n",
      "Testing accuracy is:  0.8\n"
     ]
    }
   ],
   "source": [
    "# Create and training a KNN classifier model\n",
    "clf = KNeighborsClassifier(n_neighbors = 10)\n",
    "clf.fit(X_train, y_train)\n",
    "\n",
    "# Use the model to predict testing data\n",
    "y_pred_train = clf.predict(X_train)\n",
    "y_pred_test = clf.predict(X_test)\n",
    "accuracy_train = accuracy_score(y_pred_train, y_train)\n",
    "accuracy_test = accuracy_score(y_pred_test, y_test)\n",
    "print('Training accuracy is: ', accuracy_train)\n",
    "print('Testing accuracy is: ', accuracy_test)"
   ]
  },
  {
   "cell_type": "markdown",
   "id": "f5828ea5",
   "metadata": {},
   "source": [
    "#### Discuss: \n",
    "when n_neighbors(K) is 10, the accuracy score of both training set and test set are fairly good. KNN model works well in this case."
   ]
  },
  {
   "cell_type": "markdown",
   "id": "60219db3",
   "metadata": {},
   "source": [
    "### Find the best K-value(n_neighbors)"
   ]
  },
  {
   "cell_type": "code",
   "execution_count": 37,
   "id": "a16e13e1",
   "metadata": {},
   "outputs": [
    {
     "data": {
      "image/png": "[encoded data removed]",
      "text/plain": [
       "<Figure size 432x288 with 1 Axes>"
      ]
     },
     "metadata": {
      "needs_background": "light"
     },
     "output_type": "display_data"
    }
   ],
   "source": [
    "# Plot the accurcy trend w.r.t. K\n",
    "training_error=list()\n",
    "testing_error=list()\n",
    "\n",
    "for i in range(1, 41):\n",
    "    clf = KNeighborsClassifier(n_neighbors = i)\n",
    "    clf.fit(X_train, y_train)\n",
    "    training_error.append(1.0-accuracy_score(clf.predict(X_train), y_train))\n",
    "    testing_error.append(1.0-accuracy_score(clf.predict(X_test), y_test))\n",
    "\n",
    "# Plot the relationship\n",
    "plt.plot(range(1, 41), training_error, marker='x', label='Trainining Error')\n",
    "plt.plot(range(1, 41), testing_error, marker='o', label='Testing Error')\n",
    "plt.xlabel('K')\n",
    "plt.ylabel('Error')\n",
    "plt.legend(loc='best')\n",
    "plt.show()"
   ]
  },
  {
   "cell_type": "markdown",
   "id": "4a35f5f1",
   "metadata": {},
   "source": [
    "#### Discuss: \n",
    "- as can be seen in above plot, when K>35, the error rate of both training set and test set will increase significantly.\n",
    "- when K<5, although the accuracy of both training set is high, that of test set is low."
   ]
  },
  {
   "cell_type": "markdown",
   "id": "664aba40",
   "metadata": {},
   "source": [
    "### k-fold cross validation in order to find the best K-value."
   ]
  },
  {
   "cell_type": "code",
   "execution_count": 38,
   "id": "0e10666b",
   "metadata": {},
   "outputs": [
    {
     "name": "stdout",
     "output_type": "stream",
     "text": [
      "Accuracy for each round: \n",
      " [0.8 0.8 0.8 0.4 1.  0.8 0.8 0.8 0.8 1. ]\n",
      "Average accuracy: 0.8000 +- 0.1549\n"
     ]
    }
   ],
   "source": [
    "# Create a KNN classifier model and use k-fold cross validation for testing accuracy estimation\n",
    "clf = KNeighborsClassifier(n_neighbors = 10)\n",
    "scores = cross_val_score(clf, X, y, cv=10)\n",
    "print('Accuracy for each round: \\n', scores)\n",
    "print('Average accuracy: %.4f +- %.4f' % (scores.mean(), scores.std()))"
   ]
  },
  {
   "cell_type": "code",
   "execution_count": 39,
   "id": "02fb003d",
   "metadata": {},
   "outputs": [
    {
     "name": "stdout",
     "output_type": "stream",
     "text": [
      "Best K value:  6\n",
      "The accuracy:  0.82\n"
     ]
    }
   ],
   "source": [
    "# Define search space for parameters\n",
    "parameter_grid = {'n_neighbors': range(1, 41)}\n",
    "\n",
    "# Create the machine learning model\n",
    "knn_clf = KNeighborsClassifier()\n",
    "clf = GridSearchCV(knn_clf, parameter_grid, scoring='accuracy', cv=10)\n",
    "clf.fit(X, y)\n",
    "\n",
    "# Identify the best parameter(s)\n",
    "print('Best K value: ', clf.best_params_['n_neighbors'])\n",
    "print('The accuracy: ', clf.best_score_)"
   ]
  },
  {
   "cell_type": "markdown",
   "id": "940b0504",
   "metadata": {},
   "source": [
    "### Analysis\n",
    "- KNN is more suitable model to predict feedback for this dataset than logistic regression model.\n",
    "- K-value of KNN model should be between 5 and 35."
   ]
  },
  {
   "cell_type": "code",
   "execution_count": null,
   "id": "2b49ff98",
   "metadata": {},
   "outputs": [],
   "source": []
  }
 ],
 "metadata": {
  "kernelspec": {
   "display_name": "Python 3 (ipykernel)",
   "language": "python",
   "name": "python3"
  },
  "language_info": {
   "codemirror_mode": {
    "name": "ipython",
    "version": 3
   },
   "file_extension": ".py",
   "mimetype": "text/x-python",
   "name": "python",
   "nbconvert_exporter": "python",
   "pygments_lexer": "ipython3",
   "version": "3.9.7"
  }
 },
 "nbformat": 4,
 "nbformat_minor": 5
}
